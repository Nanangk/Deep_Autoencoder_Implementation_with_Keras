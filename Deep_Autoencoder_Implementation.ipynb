{
  "nbformat": 4,
  "nbformat_minor": 0,
  "metadata": {
    "colab": {
      "name": "Deep Autoencoder Implementation.ipynb",
      "provenance": [],
      "collapsed_sections": [],
      "authorship_tag": "ABX9TyONY31bIBi4PB5i4po1d/uH",
      "include_colab_link": true
    },
    "kernelspec": {
      "name": "python3",
      "display_name": "Python 3"
    },
    "accelerator": "GPU"
  },
  "cells": [
    {
      "cell_type": "markdown",
      "metadata": {
        "id": "view-in-github",
        "colab_type": "text"
      },
      "source": [
        "<a href=\"https://colab.research.google.com/github/Nanangk/Deep_Autoencoder_Implementation_with_Keras/blob/master/Deep_Autoencoder_Implementation.ipynb\" target=\"_parent\"><img src=\"https://colab.research.google.com/assets/colab-badge.svg\" alt=\"Open In Colab\"/></a>"
      ]
    },
    {
      "cell_type": "markdown",
      "metadata": {
        "id": "0Qt4GOFxihqN",
        "colab_type": "text"
      },
      "source": [
        "#Deep Autoencoder Implementation"
      ]
    },
    {
      "cell_type": "markdown",
      "metadata": {
        "id": "-7XKONJkhV3N",
        "colab_type": "text"
      },
      "source": [
        "This project aim to implementation of Deep Autoencoder with Keras, this project use fashion mnist dataset from keras\n",
        "\n",
        "Fashion mnist is a dataset of 60,000 28x28 grayscale images of 10 fashion categories, along with a test set of 10,000 images. This dataset can be used as a drop-in replacement for MNIST. \n",
        "\n",
        "The class labels are:\n",
        "\n",
        "Label\tDescription\n",
        "0.\tT-shirt/top\n",
        "1.\tTrouser\n",
        "2.\tPullover\n",
        "3.\tDress\n",
        "4.\tCoat\n",
        "5.\tSandal\n",
        "6.\tShirt\n",
        "7.\tSneaker\n",
        "8.\tBag\n",
        "9.\tAnkle boot "
      ]
    },
    {
      "cell_type": "markdown",
      "metadata": {
        "id": "2qrUIDkkx7T5",
        "colab_type": "text"
      },
      "source": [
        "<h3>What is Autoencoder?</h3>\n",
        "Autoencoder is one of type neural network where the input is same as the output, autoencoder learn the input data and reconstruct the input data, autoencoder used for dimensionality reduction\n",
        "\n",
        "![Autoencoder](https://encrypted-tbn0.gstatic.com/images?q=tbn%3AANd9GcRj6teOvotqH0V03TJsL5avWnHWSUBFlJUJIgSjrdff2dz3ca5C&usqp=CAU)"
      ]
    },
    {
      "cell_type": "code",
      "metadata": {
        "id": "sTIRnlbCgmuw",
        "colab_type": "code",
        "colab": {
          "base_uri": "https://localhost:8080/",
          "height": 33
        },
        "outputId": "6a79d791-970a-4523-bc8c-0a0e752d159f"
      },
      "source": [
        "#import library\n",
        "from keras.datasets import fashion_mnist\n",
        "from keras.layers import Input, Dense\n",
        "from keras.models import Model"
      ],
      "execution_count": 1,
      "outputs": [
        {
          "output_type": "stream",
          "text": [
            "Using TensorFlow backend.\n"
          ],
          "name": "stderr"
        }
      ]
    },
    {
      "cell_type": "code",
      "metadata": {
        "id": "khAw7lDCjeIs",
        "colab_type": "code",
        "colab": {
          "base_uri": "https://localhost:8080/",
          "height": 150
        },
        "outputId": "fd086db2-4e77-4aca-dd74-2c7f7cefde30"
      },
      "source": [
        "#Load Dataset\n",
        "(x_train, y_train), (x_test, y_test) = fashion_mnist.load_data()"
      ],
      "execution_count": 2,
      "outputs": [
        {
          "output_type": "stream",
          "text": [
            "Downloading data from http://fashion-mnist.s3-website.eu-central-1.amazonaws.com/train-labels-idx1-ubyte.gz\n",
            "32768/29515 [=================================] - 0s 0us/step\n",
            "Downloading data from http://fashion-mnist.s3-website.eu-central-1.amazonaws.com/train-images-idx3-ubyte.gz\n",
            "26427392/26421880 [==============================] - 0s 0us/step\n",
            "Downloading data from http://fashion-mnist.s3-website.eu-central-1.amazonaws.com/t10k-labels-idx1-ubyte.gz\n",
            "8192/5148 [===============================================] - 0s 0us/step\n",
            "Downloading data from http://fashion-mnist.s3-website.eu-central-1.amazonaws.com/t10k-images-idx3-ubyte.gz\n",
            "4423680/4422102 [==============================] - 0s 0us/step\n"
          ],
          "name": "stdout"
        }
      ]
    },
    {
      "cell_type": "code",
      "metadata": {
        "id": "fm_6tKBhlA7G",
        "colab_type": "code",
        "colab": {}
      },
      "source": [
        "#Rescale  dataset\n",
        "import numpy as np\n",
        "\n",
        "x_train = x_train.astype('float32') / 255.\n",
        "x_test = x_test.astype('float32') / 255.\n",
        "\n",
        "#reshape 2D (28x28) Image to 1D (784) \n",
        "x_train = x_train.reshape((len(x_train), np.prod(x_train.shape[1:])))\n",
        "x_test = x_test.reshape((len(x_test), np.prod(x_test.shape[1:])))"
      ],
      "execution_count": 3,
      "outputs": []
    },
    {
      "cell_type": "code",
      "metadata": {
        "id": "JzeQhRwRliPy",
        "colab_type": "code",
        "colab": {}
      },
      "source": [
        "#Build Autoencoder Model\n",
        "\n",
        "target_dimension = 16\n",
        "\n",
        "#Encoder\n",
        "input_img = Input(shape=(784,))\n",
        "encoder = Dense(128, activation='relu')(input_img)\n",
        "encoder = Dense(64, activation='relu')(encoder)\n",
        "encoder = Dense(32, activation='relu')(encoder)\n",
        "\n",
        "#code\n",
        "coded = Dense(target_dimension, activation='relu')(encoder)\n",
        "\n",
        "#Decoder\n",
        "decoder = Dense(32, activation='relu')(coded)\n",
        "decoder = Dense(64, activation='relu')(decoder)\n",
        "decoder = Dense(128, activation='relu')(decoder)\n",
        "decoder = Dense(784, activation='sigmoid')(decoder)\n",
        "\n",
        "autoencoder = Model(input_img, decoder)"
      ],
      "execution_count": 4,
      "outputs": []
    },
    {
      "cell_type": "code",
      "metadata": {
        "id": "G1AwDqVAqMOe",
        "colab_type": "code",
        "colab": {}
      },
      "source": [
        "#compile model\n",
        "autoencoder.compile(loss = 'binary_crossentropy',\n",
        "                    optimizer = 'adam')"
      ],
      "execution_count": 5,
      "outputs": []
    },
    {
      "cell_type": "code",
      "metadata": {
        "id": "53nChiIK5L3z",
        "colab_type": "code",
        "colab": {
          "base_uri": "https://localhost:8080/",
          "height": 452
        },
        "outputId": "eba92032-ebd1-42df-da0f-0df2abdb9977"
      },
      "source": [
        "autoencoder.summary()"
      ],
      "execution_count": 6,
      "outputs": [
        {
          "output_type": "stream",
          "text": [
            "Model: \"model_1\"\n",
            "_________________________________________________________________\n",
            "Layer (type)                 Output Shape              Param #   \n",
            "=================================================================\n",
            "input_1 (InputLayer)         (None, 784)               0         \n",
            "_________________________________________________________________\n",
            "dense_1 (Dense)              (None, 128)               100480    \n",
            "_________________________________________________________________\n",
            "dense_2 (Dense)              (None, 64)                8256      \n",
            "_________________________________________________________________\n",
            "dense_3 (Dense)              (None, 32)                2080      \n",
            "_________________________________________________________________\n",
            "dense_4 (Dense)              (None, 16)                528       \n",
            "_________________________________________________________________\n",
            "dense_5 (Dense)              (None, 32)                544       \n",
            "_________________________________________________________________\n",
            "dense_6 (Dense)              (None, 64)                2112      \n",
            "_________________________________________________________________\n",
            "dense_7 (Dense)              (None, 128)               8320      \n",
            "_________________________________________________________________\n",
            "dense_8 (Dense)              (None, 784)               101136    \n",
            "=================================================================\n",
            "Total params: 223,456\n",
            "Trainable params: 223,456\n",
            "Non-trainable params: 0\n",
            "_________________________________________________________________\n"
          ],
          "name": "stdout"
        }
      ]
    },
    {
      "cell_type": "code",
      "metadata": {
        "id": "HtW07sr85gOK",
        "colab_type": "code",
        "colab": {
          "base_uri": "https://localhost:8080/",
          "height": 719
        },
        "outputId": "84f5874a-ade2-41e4-8f62-bc8ef427b01f"
      },
      "source": [
        "#Training model\n",
        "autoencoder.fit(x_train, x_train,\n",
        "                epochs=20,\n",
        "                batch_size=100,\n",
        "                shuffle=True,\n",
        "                validation_data=(x_test, x_test))"
      ],
      "execution_count": 7,
      "outputs": [
        {
          "output_type": "stream",
          "text": [
            "Train on 60000 samples, validate on 10000 samples\n",
            "Epoch 1/20\n",
            "60000/60000 [==============================] - 6s 98us/step - loss: 0.3613 - val_loss: 0.3166\n",
            "Epoch 2/20\n",
            "60000/60000 [==============================] - 4s 69us/step - loss: 0.3092 - val_loss: 0.3066\n",
            "Epoch 3/20\n",
            "60000/60000 [==============================] - 4s 70us/step - loss: 0.3021 - val_loss: 0.3019\n",
            "Epoch 4/20\n",
            "60000/60000 [==============================] - 4s 69us/step - loss: 0.2982 - val_loss: 0.2987\n",
            "Epoch 5/20\n",
            "60000/60000 [==============================] - 4s 69us/step - loss: 0.2955 - val_loss: 0.2968\n",
            "Epoch 6/20\n",
            "60000/60000 [==============================] - 4s 68us/step - loss: 0.2933 - val_loss: 0.2945\n",
            "Epoch 7/20\n",
            "60000/60000 [==============================] - 4s 69us/step - loss: 0.2916 - val_loss: 0.2930\n",
            "Epoch 8/20\n",
            "60000/60000 [==============================] - 4s 69us/step - loss: 0.2903 - val_loss: 0.2919\n",
            "Epoch 9/20\n",
            "60000/60000 [==============================] - 4s 69us/step - loss: 0.2894 - val_loss: 0.2919\n",
            "Epoch 10/20\n",
            "60000/60000 [==============================] - 4s 69us/step - loss: 0.2887 - val_loss: 0.2906\n",
            "Epoch 11/20\n",
            "60000/60000 [==============================] - 4s 69us/step - loss: 0.2881 - val_loss: 0.2900\n",
            "Epoch 12/20\n",
            "60000/60000 [==============================] - 4s 69us/step - loss: 0.2876 - val_loss: 0.2900\n",
            "Epoch 13/20\n",
            "60000/60000 [==============================] - 4s 69us/step - loss: 0.2872 - val_loss: 0.2892\n",
            "Epoch 14/20\n",
            "60000/60000 [==============================] - 4s 69us/step - loss: 0.2867 - val_loss: 0.2891\n",
            "Epoch 15/20\n",
            "60000/60000 [==============================] - 4s 68us/step - loss: 0.2864 - val_loss: 0.2887\n",
            "Epoch 16/20\n",
            "60000/60000 [==============================] - 4s 69us/step - loss: 0.2861 - val_loss: 0.2889\n",
            "Epoch 17/20\n",
            "60000/60000 [==============================] - 4s 69us/step - loss: 0.2858 - val_loss: 0.2879\n",
            "Epoch 18/20\n",
            "60000/60000 [==============================] - 4s 69us/step - loss: 0.2855 - val_loss: 0.2878\n",
            "Epoch 19/20\n",
            "60000/60000 [==============================] - 4s 69us/step - loss: 0.2853 - val_loss: 0.2875\n",
            "Epoch 20/20\n",
            "60000/60000 [==============================] - 4s 69us/step - loss: 0.2851 - val_loss: 0.2873\n"
          ],
          "name": "stdout"
        },
        {
          "output_type": "execute_result",
          "data": {
            "text/plain": [
              "<keras.callbacks.callbacks.History at 0x7fabc79799e8>"
            ]
          },
          "metadata": {
            "tags": []
          },
          "execution_count": 7
        }
      ]
    },
    {
      "cell_type": "code",
      "metadata": {
        "id": "er4rCMMn5OxE",
        "colab_type": "code",
        "colab": {
          "base_uri": "https://localhost:8080/",
          "height": 273
        },
        "outputId": "f00974f5-3912-4e5e-8533-c4d97faf39ab"
      },
      "source": [
        "#Display original data and reconstruction data\n",
        "import matplotlib.pyplot as plt\n",
        "decoded_imgs = autoencoder.predict(x_test)\n",
        "\n",
        "n = 10\n",
        "plt.figure(figsize=(25, 5))\n",
        "for i in range(n):\n",
        "    # display original\n",
        "    ax = plt.subplot(2, n, i+1)\n",
        "    plt.imshow(x_test[i].reshape(28, 28))\n",
        "    plt.gray()\n",
        "    ax.get_xaxis().set_visible(False)\n",
        "    ax.get_yaxis().set_visible(False)\n",
        "\n",
        "    # display reconstruction\n",
        "    ax = plt.subplot(2, n, i+1 + n)\n",
        "    plt.imshow(decoded_imgs[i].reshape(28, 28))\n",
        "    plt.gray()\n",
        "    ax.get_xaxis().set_visible(False)\n",
        "    ax.get_yaxis().set_visible(False)\n",
        "    \n",
        "plt.show()"
      ],
      "execution_count": 8,
      "outputs": [
        {
          "output_type": "display_data",
          "data": {
            "image/png": "[encoded data removed]",
            "text/plain": [
              "<Figure size 1800x360 with 20 Axes>"
            ]
          },
          "metadata": {
            "tags": [],
            "needs_background": "light"
          }
        }
      ]
    },
    {
      "cell_type": "markdown",
      "metadata": {
        "id": "2gLo4OjG3qoq",
        "colab_type": "text"
      },
      "source": [
        "#Build Classifier Model"
      ]
    },
    {
      "cell_type": "code",
      "metadata": {
        "id": "yeH4AfD43oMr",
        "colab_type": "code",
        "colab": {}
      },
      "source": [
        "#impoert library\n",
        "import tensorflow as tf\n",
        "import keras\n",
        "from keras.models import Sequential\n",
        "from keras.layers import Conv2D, MaxPooling2D\n",
        "from keras.layers import Dense, Dropout, Activation, Flatten"
      ],
      "execution_count": 9,
      "outputs": []
    },
    {
      "cell_type": "code",
      "metadata": {
        "id": "feEhrBis3xgL",
        "colab_type": "code",
        "colab": {}
      },
      "source": [
        "y_train = keras.utils.to_categorical(y_train, 10)\n",
        "y_test = keras.utils.to_categorical(y_test, 10)"
      ],
      "execution_count": 10,
      "outputs": []
    },
    {
      "cell_type": "code",
      "metadata": {
        "id": "BxtuKwx-3315",
        "colab_type": "code",
        "colab": {
          "base_uri": "https://localhost:8080/",
          "height": 70
        },
        "outputId": "fe8da72d-5045-4f76-80ad-dba82bbe5f8b"
      },
      "source": [
        "#Build CNN Model\n",
        "model = Sequential()\n",
        "model.add(Conv2D(32, kernel_size = (3,3), activation='linear', padding='same', input_shape=(28,28,1)))\n",
        "model.add(Conv2D(64, (3,3), activation='linear', padding='same'))\n",
        "model.add(MaxPooling2D(pool_size=(2,2)))\n",
        "model.add(Dropout(0.25))\n",
        "model.add(Flatten())\n",
        "model.add(Dense(64, activation='linear'))\n",
        "model.add(Dropout(0.25))\n",
        "model.add(Dense(10, activation=Activation(tf.nn.softmax)))"
      ],
      "execution_count": 11,
      "outputs": [
        {
          "output_type": "stream",
          "text": [
            "/usr/local/lib/python3.6/dist-packages/keras/activations.py:235: UserWarning: Do not pass a layer instance (such as Activation) as the activation argument of another layer. Instead, advanced activation layers should be used just like any other layer in a model.\n",
            "  identifier=identifier.__class__.__name__))\n"
          ],
          "name": "stderr"
        }
      ]
    },
    {
      "cell_type": "code",
      "metadata": {
        "id": "0WbJupAx4AqE",
        "colab_type": "code",
        "colab": {}
      },
      "source": [
        "model.compile(loss=keras.losses.categorical_crossentropy,\n",
        "              optimizer=keras.optimizers.Adadelta(), metrics=['accuracy'])"
      ],
      "execution_count": 12,
      "outputs": []
    },
    {
      "cell_type": "code",
      "metadata": {
        "id": "i_vjS32C65c6",
        "colab_type": "code",
        "colab": {
          "base_uri": "https://localhost:8080/",
          "height": 33
        },
        "outputId": "532a2f30-33a8-428c-c3de-4d4245b1ca18"
      },
      "source": [
        "x_test[0].shape"
      ],
      "execution_count": 13,
      "outputs": [
        {
          "output_type": "execute_result",
          "data": {
            "text/plain": [
              "(784,)"
            ]
          },
          "metadata": {
            "tags": []
          },
          "execution_count": 13
        }
      ]
    },
    {
      "cell_type": "code",
      "metadata": {
        "id": "8mavODE79Ajk",
        "colab_type": "code",
        "colab": {}
      },
      "source": [
        "#reshape from 1D to 2D (28x28)\n",
        "x_train = np.reshape(x_train, (len(x_train), 28, 28, 1)) \n",
        "x_test = np.reshape(x_test, (len(x_test), 28, 28, 1))"
      ],
      "execution_count": 14,
      "outputs": []
    },
    {
      "cell_type": "code",
      "metadata": {
        "id": "Q7lkZq9J4Eqd",
        "colab_type": "code",
        "colab": {
          "base_uri": "https://localhost:8080/",
          "height": 368
        },
        "outputId": "5af23da8-35e2-4929-bde9-a6f2b41072da"
      },
      "source": [
        "#Train model without autoencoder image\n",
        "model_without_autoencoder = model.fit(x_train, y_train, \n",
        "          batch_size=64, \n",
        "          epochs=10, \n",
        "          verbose=1,\n",
        "          validation_data=(x_test, y_test)\n",
        "          )"
      ],
      "execution_count": 15,
      "outputs": [
        {
          "output_type": "stream",
          "text": [
            "Train on 60000 samples, validate on 10000 samples\n",
            "Epoch 1/10\n",
            "60000/60000 [==============================] - 17s 275us/step - loss: 0.4518 - accuracy: 0.8438 - val_loss: 0.4151 - val_accuracy: 0.8486\n",
            "Epoch 2/10\n",
            "60000/60000 [==============================] - 12s 197us/step - loss: 0.3202 - accuracy: 0.8884 - val_loss: 0.3427 - val_accuracy: 0.8756\n",
            "Epoch 3/10\n",
            "60000/60000 [==============================] - 12s 197us/step - loss: 0.2913 - accuracy: 0.8985 - val_loss: 0.3228 - val_accuracy: 0.8862\n",
            "Epoch 4/10\n",
            "60000/60000 [==============================] - 12s 198us/step - loss: 0.2684 - accuracy: 0.9062 - val_loss: 0.3047 - val_accuracy: 0.8935\n",
            "Epoch 5/10\n",
            "60000/60000 [==============================] - 12s 197us/step - loss: 0.2555 - accuracy: 0.9094 - val_loss: 0.3506 - val_accuracy: 0.8779\n",
            "Epoch 6/10\n",
            "60000/60000 [==============================] - 12s 197us/step - loss: 0.2451 - accuracy: 0.9134 - val_loss: 0.2963 - val_accuracy: 0.8954\n",
            "Epoch 7/10\n",
            "60000/60000 [==============================] - 12s 197us/step - loss: 0.2347 - accuracy: 0.9165 - val_loss: 0.3006 - val_accuracy: 0.8984\n",
            "Epoch 8/10\n",
            "60000/60000 [==============================] - 12s 197us/step - loss: 0.2275 - accuracy: 0.9194 - val_loss: 0.2935 - val_accuracy: 0.8992\n",
            "Epoch 9/10\n",
            "60000/60000 [==============================] - 12s 198us/step - loss: 0.2203 - accuracy: 0.9198 - val_loss: 0.2861 - val_accuracy: 0.9032\n",
            "Epoch 10/10\n",
            "60000/60000 [==============================] - 12s 197us/step - loss: 0.2159 - accuracy: 0.9227 - val_loss: 0.2845 - val_accuracy: 0.9039\n"
          ],
          "name": "stdout"
        }
      ]
    },
    {
      "cell_type": "code",
      "metadata": {
        "id": "cLMe5q_gA884",
        "colab_type": "code",
        "colab": {}
      },
      "source": [
        "#reshape for predict 2D to 1D\n",
        "x_train = x_train.reshape((len(x_train), np.prod(x_train.shape[1:])))\n",
        "x_test = x_test.reshape((len(x_test), np.prod(x_test.shape[1:])))\n",
        "\n",
        "\n",
        "decoded_train_imgs = autoencoder.predict(x_train)\n",
        "decoded_test_imgs = autoencoder.predict(x_test)"
      ],
      "execution_count": 16,
      "outputs": []
    },
    {
      "cell_type": "code",
      "metadata": {
        "id": "agWgM1VdBkUV",
        "colab_type": "code",
        "colab": {}
      },
      "source": [
        "#reshape for classification 1D to 2D\n",
        "decoded_train_imgs = np.reshape(decoded_train_imgs, (len(decoded_train_imgs), 28, 28, 1)) \n",
        "decoded_test_imgs = np.reshape(decoded_test_imgs, (len(decoded_test_imgs), 28, 28, 1))"
      ],
      "execution_count": 17,
      "outputs": []
    },
    {
      "cell_type": "code",
      "metadata": {
        "id": "6wDRETL9AtHc",
        "colab_type": "code",
        "colab": {
          "base_uri": "https://localhost:8080/",
          "height": 368
        },
        "outputId": "57f1ca65-1be5-4eb7-9d3b-e70bd7811245"
      },
      "source": [
        "#Train model witht autoencoder image\n",
        "model_with_autoencoder = model.fit(decoded_train_imgs, y_train, \n",
        "          batch_size=64, \n",
        "          epochs=10, \n",
        "          verbose=1,\n",
        "          validation_data=(decoded_test_imgs, y_test)\n",
        "          )"
      ],
      "execution_count": 18,
      "outputs": [
        {
          "output_type": "stream",
          "text": [
            "Train on 60000 samples, validate on 10000 samples\n",
            "Epoch 1/10\n",
            "60000/60000 [==============================] - 12s 200us/step - loss: 0.4703 - accuracy: 0.8285 - val_loss: 0.4534 - val_accuracy: 0.8329\n",
            "Epoch 2/10\n",
            "60000/60000 [==============================] - 12s 197us/step - loss: 0.4384 - accuracy: 0.8390 - val_loss: 0.4466 - val_accuracy: 0.8319\n",
            "Epoch 3/10\n",
            "60000/60000 [==============================] - 12s 197us/step - loss: 0.4242 - accuracy: 0.8444 - val_loss: 0.4562 - val_accuracy: 0.8307\n",
            "Epoch 4/10\n",
            "60000/60000 [==============================] - 12s 202us/step - loss: 0.4174 - accuracy: 0.8468 - val_loss: 0.4302 - val_accuracy: 0.8384\n",
            "Epoch 5/10\n",
            "60000/60000 [==============================] - 12s 199us/step - loss: 0.4110 - accuracy: 0.8469 - val_loss: 0.4285 - val_accuracy: 0.8383\n",
            "Epoch 6/10\n",
            "60000/60000 [==============================] - 13s 209us/step - loss: 0.4029 - accuracy: 0.8506 - val_loss: 0.4312 - val_accuracy: 0.8369\n",
            "Epoch 7/10\n",
            "60000/60000 [==============================] - 12s 204us/step - loss: 0.3988 - accuracy: 0.8517 - val_loss: 0.4300 - val_accuracy: 0.8371\n",
            "Epoch 8/10\n",
            "60000/60000 [==============================] - 12s 197us/step - loss: 0.3950 - accuracy: 0.8532 - val_loss: 0.4265 - val_accuracy: 0.8396\n",
            "Epoch 9/10\n",
            "60000/60000 [==============================] - 12s 198us/step - loss: 0.3919 - accuracy: 0.8530 - val_loss: 0.4203 - val_accuracy: 0.8426\n",
            "Epoch 10/10\n",
            "60000/60000 [==============================] - 12s 199us/step - loss: 0.3878 - accuracy: 0.8545 - val_loss: 0.4329 - val_accuracy: 0.8387\n"
          ],
          "name": "stdout"
        }
      ]
    },
    {
      "cell_type": "code",
      "metadata": {
        "id": "a5BUt6K85ZDX",
        "colab_type": "code",
        "colab": {}
      },
      "source": [
        ""
      ],
      "execution_count": 18,
      "outputs": []
    },
    {
      "cell_type": "markdown",
      "metadata": {
        "id": "co6hL8KB5anz",
        "colab_type": "text"
      },
      "source": [
        "#Comparison Accuracy and Val Accuracy on original data and autoencoder data"
      ]
    },
    {
      "cell_type": "code",
      "metadata": {
        "id": "zO6yRR1CA-_v",
        "colab_type": "code",
        "colab": {
          "base_uri": "https://localhost:8080/",
          "height": 516
        },
        "outputId": "6f328605-df06-42c5-f9df-0bd7862f06c8"
      },
      "source": [
        "#accuracy visualization\n",
        "\n",
        "import matplotlib.pyplot as plt\n",
        "\n",
        "acc = model_without_autoencoder.history['accuracy']\n",
        "val_acc = model_without_autoencoder.history['val_accuracy']\n",
        "\n",
        "acc2 = model_with_autoencoder.history['accuracy']\n",
        "val_acc2 = model_with_autoencoder.history['val_accuracy']\n",
        "\n",
        "epochs = range(len(acc))\n",
        "\n",
        "fig, ax = plt.subplots(figsize=(20,8))\n",
        "ax.plot(epochs, acc, 'r', label='Training Accuracy Original Data')\n",
        "ax.plot(epochs, val_acc, 'b', label='Validation Accuracy Original Data')\n",
        "ax.plot(epochs, acc2, 'g', label='Training Accuracy Autoencoder Data')\n",
        "ax.plot(epochs, val_acc2, 'y', label='Validation Accuracy Autoencoder Data')\n",
        "ax.set_title('Training and Validation Accuracy')\n",
        "plt.legend(loc=0)\n",
        "plt.figure()\n",
        "\n",
        "plt.show()"
      ],
      "execution_count": 19,
      "outputs": [
        {
          "output_type": "display_data",
          "data": {
            "image/png": "[encoded data removed]",
            "text/plain": [
              "<Figure size 1440x576 with 1 Axes>"
            ]
          },
          "metadata": {
            "tags": [],
            "needs_background": "light"
          }
        },
        {
          "output_type": "display_data",
          "data": {
            "text/plain": [
              "<Figure size 432x288 with 0 Axes>"
            ]
          },
          "metadata": {
            "tags": []
          }
        }
      ]
    },
    {
      "cell_type": "code",
      "metadata": {
        "id": "QctGg4LmCaqm",
        "colab_type": "code",
        "colab": {}
      },
      "source": [
        ""
      ],
      "execution_count": 19,
      "outputs": []
    }
  ]
}