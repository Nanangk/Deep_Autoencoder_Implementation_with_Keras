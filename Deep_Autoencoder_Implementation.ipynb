{
  "nbformat": 4,
  "nbformat_minor": 0,
  "metadata": {
    "colab": {
      "name": "Deep Autoencoder Implementation.ipynb",
      "provenance": [],
      "collapsed_sections": [],
      "authorship_tag": "ABX9TyO8tzkiw6vDONe20jY7xYIQ",
      "include_colab_link": true
    },
    "kernelspec": {
      "name": "python3",
      "display_name": "Python 3"
    },
    "accelerator": "GPU"
  },
  "cells": [
    {
      "cell_type": "markdown",
      "metadata": {
        "id": "view-in-github",
        "colab_type": "text"
      },
      "source": [
        "<a href=\"https://colab.research.google.com/github/Nanangk/Deep_Autoencoder_Implementation_with_Keras/blob/master/Deep_Autoencoder_Implementation.ipynb\" target=\"_parent\"><img src=\"https://colab.research.google.com/assets/colab-badge.svg\" alt=\"Open In Colab\"/></a>"
      ]
    },
    {
      "cell_type": "markdown",
      "metadata": {
        "id": "0Qt4GOFxihqN",
        "colab_type": "text"
      },
      "source": [
        "#Deep Autoencoder Implementation"
      ]
    },
    {
      "cell_type": "markdown",
      "metadata": {
        "id": "-7XKONJkhV3N",
        "colab_type": "text"
      },
      "source": [
        "This project aim to implementation of Deep Autoencoder with Keras, this project use fashion mnist dataset from keras\n",
        "\n",
        "Fashion mnist is a dataset of 60,000 28x28 grayscale images of 10 fashion categories, along with a test set of 10,000 images. This dataset can be used as a drop-in replacement for MNIST. \n",
        "\n",
        "The class labels are:\n",
        "\n",
        "Label\tDescription\n",
        "0.\tT-shirt/top\n",
        "1.\tTrouser\n",
        "2.\tPullover\n",
        "3.\tDress\n",
        "4.\tCoat\n",
        "5.\tSandal\n",
        "6.\tShirt\n",
        "7.\tSneaker\n",
        "8.\tBag\n",
        "9.\tAnkle boot "
      ]
    },
    {
      "cell_type": "markdown",
      "metadata": {
        "id": "2qrUIDkkx7T5",
        "colab_type": "text"
      },
      "source": [
        "<h3>What is Autoencoder?</h3>\n",
        "Autoencoder is one of type neural network where the input is same as the output, autoencoder learn the input data and reconstruct the input data, autoencoder used for dimensionality reduction\n",
        "\n",
        "![Autoencoder](https://encrypted-tbn0.gstatic.com/images?q=tbn%3AANd9GcRj6teOvotqH0V03TJsL5avWnHWSUBFlJUJIgSjrdff2dz3ca5C&usqp=CAU)"
      ]
    },
    {
      "cell_type": "code",
      "metadata": {
        "id": "sTIRnlbCgmuw",
        "colab_type": "code",
        "colab": {
          "base_uri": "https://localhost:8080/",
          "height": 33
        },
        "outputId": "21dd249f-846b-4376-c238-f36c64d0d26b"
      },
      "source": [
        "#import library\n",
        "from keras.datasets import fashion_mnist\n",
        "from keras.layers import Input, Dense\n",
        "from keras.models import Model"
      ],
      "execution_count": 1,
      "outputs": [
        {
          "output_type": "stream",
          "text": [
            "Using TensorFlow backend.\n"
          ],
          "name": "stderr"
        }
      ]
    },
    {
      "cell_type": "code",
      "metadata": {
        "id": "khAw7lDCjeIs",
        "colab_type": "code",
        "colab": {
          "base_uri": "https://localhost:8080/",
          "height": 150
        },
        "outputId": "4b422e31-c807-45ad-fec2-0fb27be468c5"
      },
      "source": [
        "#Load Dataset\n",
        "(x_train, y_train), (x_test, y_test) = fashion_mnist.load_data()"
      ],
      "execution_count": 2,
      "outputs": [
        {
          "output_type": "stream",
          "text": [
            "Downloading data from http://fashion-mnist.s3-website.eu-central-1.amazonaws.com/train-labels-idx1-ubyte.gz\n",
            "32768/29515 [=================================] - 0s 0us/step\n",
            "Downloading data from http://fashion-mnist.s3-website.eu-central-1.amazonaws.com/train-images-idx3-ubyte.gz\n",
            "26427392/26421880 [==============================] - 0s 0us/step\n",
            "Downloading data from http://fashion-mnist.s3-website.eu-central-1.amazonaws.com/t10k-labels-idx1-ubyte.gz\n",
            "8192/5148 [===============================================] - 0s 0us/step\n",
            "Downloading data from http://fashion-mnist.s3-website.eu-central-1.amazonaws.com/t10k-images-idx3-ubyte.gz\n",
            "4423680/4422102 [==============================] - 0s 0us/step\n"
          ],
          "name": "stdout"
        }
      ]
    },
    {
      "cell_type": "code",
      "metadata": {
        "id": "fm_6tKBhlA7G",
        "colab_type": "code",
        "colab": {}
      },
      "source": [
        "#Rescale  dataset\n",
        "import numpy as np\n",
        "\n",
        "x_train = x_train.astype('float32') / 255.\n",
        "x_test = x_test.astype('float32') / 255.\n",
        "\n",
        "#reshape 2D (28x28) Image to 1D (784) \n",
        "x_train = x_train.reshape((len(x_train), np.prod(x_train.shape[1:])))\n",
        "x_test = x_test.reshape((len(x_test), np.prod(x_test.shape[1:])))"
      ],
      "execution_count": 3,
      "outputs": []
    },
    {
      "cell_type": "code",
      "metadata": {
        "id": "JzeQhRwRliPy",
        "colab_type": "code",
        "colab": {}
      },
      "source": [
        "#Build Autoencoder Model\n",
        "\n",
        "target_dimension = 16\n",
        "\n",
        "#Encoder\n",
        "input_img = Input(shape=(784,))\n",
        "encoder = Dense(128, activation='relu')(input_img)\n",
        "encoder = Dense(64, activation='relu')(encoder)\n",
        "encoder = Dense(32, activation='relu')(encoder)\n",
        "\n",
        "#code\n",
        "coded = Dense(target_dimension, activation='relu')(encoder)\n",
        "\n",
        "#Decoder\n",
        "decoder = Dense(32, activation='relu')(coded)\n",
        "decoder = Dense(64, activation='relu')(decoder)\n",
        "decoder = Dense(128, activation='relu')(decoder)\n",
        "decoder = Dense(784, activation='sigmoid')(decoder)\n",
        "\n",
        "autoencoder = Model(input_img, decoder)"
      ],
      "execution_count": 4,
      "outputs": []
    },
    {
      "cell_type": "code",
      "metadata": {
        "id": "G1AwDqVAqMOe",
        "colab_type": "code",
        "colab": {}
      },
      "source": [
        "#compile model\n",
        "autoencoder.compile(loss = 'binary_crossentropy',\n",
        "                    optimizer = 'adam')"
      ],
      "execution_count": 5,
      "outputs": []
    },
    {
      "cell_type": "code",
      "metadata": {
        "id": "53nChiIK5L3z",
        "colab_type": "code",
        "colab": {
          "base_uri": "https://localhost:8080/",
          "height": 452
        },
        "outputId": "d4dca7d6-19b7-4d76-94b5-450f06c0ea08"
      },
      "source": [
        "autoencoder.summary()"
      ],
      "execution_count": 6,
      "outputs": [
        {
          "output_type": "stream",
          "text": [
            "Model: \"model_1\"\n",
            "_________________________________________________________________\n",
            "Layer (type)                 Output Shape              Param #   \n",
            "=================================================================\n",
            "input_1 (InputLayer)         (None, 784)               0         \n",
            "_________________________________________________________________\n",
            "dense_1 (Dense)              (None, 128)               100480    \n",
            "_________________________________________________________________\n",
            "dense_2 (Dense)              (None, 64)                8256      \n",
            "_________________________________________________________________\n",
            "dense_3 (Dense)              (None, 32)                2080      \n",
            "_________________________________________________________________\n",
            "dense_4 (Dense)              (None, 16)                528       \n",
            "_________________________________________________________________\n",
            "dense_5 (Dense)              (None, 32)                544       \n",
            "_________________________________________________________________\n",
            "dense_6 (Dense)              (None, 64)                2112      \n",
            "_________________________________________________________________\n",
            "dense_7 (Dense)              (None, 128)               8320      \n",
            "_________________________________________________________________\n",
            "dense_8 (Dense)              (None, 784)               101136    \n",
            "=================================================================\n",
            "Total params: 223,456\n",
            "Trainable params: 223,456\n",
            "Non-trainable params: 0\n",
            "_________________________________________________________________\n"
          ],
          "name": "stdout"
        }
      ]
    },
    {
      "cell_type": "code",
      "metadata": {
        "id": "HtW07sr85gOK",
        "colab_type": "code",
        "colab": {
          "base_uri": "https://localhost:8080/",
          "height": 719
        },
        "outputId": "d819b852-b89a-4a8a-81a1-8b0efe8dc4ce"
      },
      "source": [
        "#Training model\n",
        "autoencoder.fit(x_train, x_train,\n",
        "                epochs=20,\n",
        "                batch_size=100,\n",
        "                shuffle=True,\n",
        "                validation_data=(x_test, x_test))"
      ],
      "execution_count": 7,
      "outputs": [
        {
          "output_type": "stream",
          "text": [
            "Train on 60000 samples, validate on 10000 samples\n",
            "Epoch 1/20\n",
            "60000/60000 [==============================] - 6s 97us/step - loss: 0.3535 - val_loss: 0.3161\n",
            "Epoch 2/20\n",
            "60000/60000 [==============================] - 4s 68us/step - loss: 0.3096 - val_loss: 0.3080\n",
            "Epoch 3/20\n",
            "60000/60000 [==============================] - 4s 68us/step - loss: 0.3039 - val_loss: 0.3038\n",
            "Epoch 4/20\n",
            "60000/60000 [==============================] - 4s 68us/step - loss: 0.3004 - val_loss: 0.3007\n",
            "Epoch 5/20\n",
            "60000/60000 [==============================] - 4s 69us/step - loss: 0.2975 - val_loss: 0.2987\n",
            "Epoch 6/20\n",
            "60000/60000 [==============================] - 4s 68us/step - loss: 0.2951 - val_loss: 0.2960\n",
            "Epoch 7/20\n",
            "60000/60000 [==============================] - 4s 69us/step - loss: 0.2930 - val_loss: 0.2940\n",
            "Epoch 8/20\n",
            "60000/60000 [==============================] - 4s 67us/step - loss: 0.2912 - val_loss: 0.2925\n",
            "Epoch 9/20\n",
            "60000/60000 [==============================] - 4s 68us/step - loss: 0.2897 - val_loss: 0.2912\n",
            "Epoch 10/20\n",
            "60000/60000 [==============================] - 4s 68us/step - loss: 0.2885 - val_loss: 0.2898\n",
            "Epoch 11/20\n",
            "60000/60000 [==============================] - 4s 67us/step - loss: 0.2875 - val_loss: 0.2892\n",
            "Epoch 12/20\n",
            "60000/60000 [==============================] - 4s 68us/step - loss: 0.2867 - val_loss: 0.2888\n",
            "Epoch 13/20\n",
            "60000/60000 [==============================] - 4s 68us/step - loss: 0.2861 - val_loss: 0.2879\n",
            "Epoch 14/20\n",
            "60000/60000 [==============================] - 4s 68us/step - loss: 0.2855 - val_loss: 0.2887\n",
            "Epoch 15/20\n",
            "60000/60000 [==============================] - 4s 68us/step - loss: 0.2851 - val_loss: 0.2876\n",
            "Epoch 16/20\n",
            "60000/60000 [==============================] - 4s 68us/step - loss: 0.2847 - val_loss: 0.2875\n",
            "Epoch 17/20\n",
            "60000/60000 [==============================] - 4s 67us/step - loss: 0.2844 - val_loss: 0.2864\n",
            "Epoch 18/20\n",
            "60000/60000 [==============================] - 4s 67us/step - loss: 0.2840 - val_loss: 0.2863\n",
            "Epoch 19/20\n",
            "60000/60000 [==============================] - 4s 67us/step - loss: 0.2836 - val_loss: 0.2857\n",
            "Epoch 20/20\n",
            "60000/60000 [==============================] - 4s 68us/step - loss: 0.2832 - val_loss: 0.2851\n"
          ],
          "name": "stdout"
        },
        {
          "output_type": "execute_result",
          "data": {
            "text/plain": [
              "<keras.callbacks.callbacks.History at 0x7f60acf7ae80>"
            ]
          },
          "metadata": {
            "tags": []
          },
          "execution_count": 7
        }
      ]
    },
    {
      "cell_type": "code",
      "metadata": {
        "id": "er4rCMMn5OxE",
        "colab_type": "code",
        "colab": {
          "base_uri": "https://localhost:8080/",
          "height": 273
        },
        "outputId": "4bfb92b9-4021-4edb-ee2b-8d8682bbbef9"
      },
      "source": [
        "#Display original data and reconstruction data\n",
        "import matplotlib.pyplot as plt\n",
        "decoded_imgs = autoencoder.predict(x_test)\n",
        "\n",
        "n = 10\n",
        "plt.figure(figsize=(25, 5))\n",
        "for i in range(n):\n",
        "    # display original\n",
        "    ax = plt.subplot(2, n, i+1)\n",
        "    plt.imshow(x_test[i].reshape(28, 28))\n",
        "    plt.gray()\n",
        "    ax.get_xaxis().set_visible(False)\n",
        "    ax.get_yaxis().set_visible(False)\n",
        "\n",
        "    # display reconstruction\n",
        "    ax = plt.subplot(2, n, i+1 + n)\n",
        "    plt.imshow(decoded_imgs[i].reshape(28, 28))\n",
        "    plt.gray()\n",
        "    ax.get_xaxis().set_visible(False)\n",
        "    ax.get_yaxis().set_visible(False)\n",
        "    \n",
        "plt.show()"
      ],
      "execution_count": 8,
      "outputs": [
        {
          "output_type": "display_data",
          "data": {
            "image/png": "[encoded data removed]",
            "text/plain": [
              "<Figure size 1800x360 with 20 Axes>"
            ]
          },
          "metadata": {
            "tags": [],
            "needs_background": "light"
          }
        }
      ]
    },
    {
      "cell_type": "markdown",
      "metadata": {
        "id": "2gLo4OjG3qoq",
        "colab_type": "text"
      },
      "source": [
        "#Build Classifier Model"
      ]
    },
    {
      "cell_type": "code",
      "metadata": {
        "id": "yeH4AfD43oMr",
        "colab_type": "code",
        "colab": {}
      },
      "source": [
        "#import library\n",
        "import tensorflow as tf\n",
        "import keras\n",
        "from keras.models import Sequential\n",
        "from keras.layers import Conv2D, MaxPooling2D\n",
        "from keras.layers import Dense, Dropout, Activation, Flatten"
      ],
      "execution_count": 9,
      "outputs": []
    },
    {
      "cell_type": "code",
      "metadata": {
        "id": "feEhrBis3xgL",
        "colab_type": "code",
        "colab": {}
      },
      "source": [
        "y_train = keras.utils.to_categorical(y_train, 10)\n",
        "y_test = keras.utils.to_categorical(y_test, 10)"
      ],
      "execution_count": 10,
      "outputs": []
    },
    {
      "cell_type": "code",
      "metadata": {
        "id": "BxtuKwx-3315",
        "colab_type": "code",
        "colab": {
          "base_uri": "https://localhost:8080/",
          "height": 70
        },
        "outputId": "c26f77a4-a9c9-46cd-abee-902cdd6d2a94"
      },
      "source": [
        "#Build CNN Model\n",
        "model = Sequential()\n",
        "\n",
        "#Covolution Layer\n",
        "model.add(Conv2D(32, kernel_size = (3,3), activation='relu', padding='same', input_shape=(28,28,1)))\n",
        "model.add(MaxPooling2D(pool_size=(2,2)))\n",
        "model.add(Conv2D(64, (3,3), activation='relu', padding='same'))\n",
        "model.add(MaxPooling2D(pool_size=(2,2)))\n",
        "model.add(Conv2D(64, (3,3), activation='relu', padding='same'))\n",
        "model.add(MaxPooling2D(pool_size=(2,2)))\n",
        "\n",
        "#Fully Connected Layer\n",
        "model.add(Flatten())\n",
        "model.add(Dropout(0.25))\n",
        "model.add(Dense(64, activation='relu'))\n",
        "model.add(Dropout(0.25))\n",
        "model.add(Dense(128, activation='relu'))\n",
        "model.add(Dense(10, activation=Activation(tf.nn.softmax)))"
      ],
      "execution_count": 11,
      "outputs": [
        {
          "output_type": "stream",
          "text": [
            "/usr/local/lib/python3.6/dist-packages/keras/activations.py:235: UserWarning: Do not pass a layer instance (such as Activation) as the activation argument of another layer. Instead, advanced activation layers should be used just like any other layer in a model.\n",
            "  identifier=identifier.__class__.__name__))\n"
          ],
          "name": "stderr"
        }
      ]
    },
    {
      "cell_type": "code",
      "metadata": {
        "id": "0WbJupAx4AqE",
        "colab_type": "code",
        "colab": {}
      },
      "source": [
        "model.compile(loss=keras.losses.categorical_crossentropy,\n",
        "              optimizer=keras.optimizers.Adadelta(), metrics=['accuracy'])"
      ],
      "execution_count": 12,
      "outputs": []
    },
    {
      "cell_type": "code",
      "metadata": {
        "id": "i_vjS32C65c6",
        "colab_type": "code",
        "colab": {
          "base_uri": "https://localhost:8080/",
          "height": 33
        },
        "outputId": "3e4a4d98-2126-44c0-e394-c9b4e8108a62"
      },
      "source": [
        "x_test[0].shape"
      ],
      "execution_count": 13,
      "outputs": [
        {
          "output_type": "execute_result",
          "data": {
            "text/plain": [
              "(784,)"
            ]
          },
          "metadata": {
            "tags": []
          },
          "execution_count": 13
        }
      ]
    },
    {
      "cell_type": "code",
      "metadata": {
        "id": "8mavODE79Ajk",
        "colab_type": "code",
        "colab": {}
      },
      "source": [
        "#reshape from 1D to 2D (28x28)\n",
        "x_train = np.reshape(x_train, (len(x_train), 28, 28, 1)) \n",
        "x_test = np.reshape(x_test, (len(x_test), 28, 28, 1))"
      ],
      "execution_count": 14,
      "outputs": []
    },
    {
      "cell_type": "code",
      "metadata": {
        "id": "Q7lkZq9J4Eqd",
        "colab_type": "code",
        "colab": {
          "base_uri": "https://localhost:8080/",
          "height": 368
        },
        "outputId": "8c897030-2ef1-4145-bff7-29751b821777"
      },
      "source": [
        "#Train model with original image\n",
        "model_without_autoencoder = model.fit(x_train, y_train, \n",
        "          batch_size=64, \n",
        "          epochs=10, \n",
        "          verbose=1,\n",
        "          validation_data=(x_test, y_test)\n",
        "          )"
      ],
      "execution_count": 15,
      "outputs": [
        {
          "output_type": "stream",
          "text": [
            "Train on 60000 samples, validate on 10000 samples\n",
            "Epoch 1/10\n",
            "60000/60000 [==============================] - 15s 256us/step - loss: 0.6259 - accuracy: 0.7664 - val_loss: 0.4031 - val_accuracy: 0.8486\n",
            "Epoch 2/10\n",
            "60000/60000 [==============================] - 11s 187us/step - loss: 0.3801 - accuracy: 0.8618 - val_loss: 0.3235 - val_accuracy: 0.8810\n",
            "Epoch 3/10\n",
            "60000/60000 [==============================] - 11s 177us/step - loss: 0.3296 - accuracy: 0.8808 - val_loss: 0.3006 - val_accuracy: 0.8890\n",
            "Epoch 4/10\n",
            "60000/60000 [==============================] - 11s 181us/step - loss: 0.2954 - accuracy: 0.8922 - val_loss: 0.2777 - val_accuracy: 0.8991\n",
            "Epoch 5/10\n",
            "60000/60000 [==============================] - 11s 177us/step - loss: 0.2717 - accuracy: 0.9008 - val_loss: 0.2636 - val_accuracy: 0.9018\n",
            "Epoch 6/10\n",
            "60000/60000 [==============================] - 11s 176us/step - loss: 0.2546 - accuracy: 0.9099 - val_loss: 0.2570 - val_accuracy: 0.9063\n",
            "Epoch 7/10\n",
            "60000/60000 [==============================] - 10s 174us/step - loss: 0.2444 - accuracy: 0.9106 - val_loss: 0.2564 - val_accuracy: 0.9060\n",
            "Epoch 8/10\n",
            "60000/60000 [==============================] - 10s 174us/step - loss: 0.2297 - accuracy: 0.9163 - val_loss: 0.2452 - val_accuracy: 0.9105\n",
            "Epoch 9/10\n",
            "60000/60000 [==============================] - 10s 174us/step - loss: 0.2209 - accuracy: 0.9193 - val_loss: 0.2553 - val_accuracy: 0.9060\n",
            "Epoch 10/10\n",
            "60000/60000 [==============================] - 10s 173us/step - loss: 0.2127 - accuracy: 0.9232 - val_loss: 0.2369 - val_accuracy: 0.9131\n"
          ],
          "name": "stdout"
        }
      ]
    },
    {
      "cell_type": "code",
      "metadata": {
        "id": "cLMe5q_gA884",
        "colab_type": "code",
        "colab": {}
      },
      "source": [
        "#reshape for predict 2D to 1D\n",
        "x_train = x_train.reshape((len(x_train), np.prod(x_train.shape[1:])))\n",
        "x_test = x_test.reshape((len(x_test), np.prod(x_test.shape[1:])))\n",
        "\n",
        "\n",
        "decoded_train_imgs = autoencoder.predict(x_train)\n",
        "decoded_test_imgs = autoencoder.predict(x_test)"
      ],
      "execution_count": 16,
      "outputs": []
    },
    {
      "cell_type": "code",
      "metadata": {
        "id": "agWgM1VdBkUV",
        "colab_type": "code",
        "colab": {}
      },
      "source": [
        "#reshape for classification 1D to 2D\n",
        "decoded_train_imgs = np.reshape(decoded_train_imgs, (len(decoded_train_imgs), 28, 28, 1)) \n",
        "decoded_test_imgs = np.reshape(decoded_test_imgs, (len(decoded_test_imgs), 28, 28, 1))"
      ],
      "execution_count": 17,
      "outputs": []
    },
    {
      "cell_type": "code",
      "metadata": {
        "id": "6wDRETL9AtHc",
        "colab_type": "code",
        "colab": {
          "base_uri": "https://localhost:8080/",
          "height": 368
        },
        "outputId": "ec567f18-9993-4566-df1a-6047dcec2696"
      },
      "source": [
        "#Train model with autoencoder image\n",
        "model_with_autoencoder = model.fit(decoded_train_imgs, y_train, \n",
        "          batch_size=64, \n",
        "          epochs=10, \n",
        "          verbose=1,\n",
        "          validation_data=(decoded_test_imgs, y_test)\n",
        "          )"
      ],
      "execution_count": 18,
      "outputs": [
        {
          "output_type": "stream",
          "text": [
            "Train on 60000 samples, validate on 10000 samples\n",
            "Epoch 1/10\n",
            "60000/60000 [==============================] - 11s 177us/step - loss: 0.4455 - accuracy: 0.8349 - val_loss: 0.4458 - val_accuracy: 0.8377\n",
            "Epoch 2/10\n",
            "60000/60000 [==============================] - 10s 172us/step - loss: 0.4169 - accuracy: 0.8463 - val_loss: 0.4180 - val_accuracy: 0.8464\n",
            "Epoch 3/10\n",
            "60000/60000 [==============================] - 10s 172us/step - loss: 0.4022 - accuracy: 0.8507 - val_loss: 0.4177 - val_accuracy: 0.8473\n",
            "Epoch 4/10\n",
            "60000/60000 [==============================] - 10s 172us/step - loss: 0.3944 - accuracy: 0.8541 - val_loss: 0.4077 - val_accuracy: 0.8496\n",
            "Epoch 5/10\n",
            "60000/60000 [==============================] - 10s 172us/step - loss: 0.3881 - accuracy: 0.8563 - val_loss: 0.4042 - val_accuracy: 0.8488\n",
            "Epoch 6/10\n",
            "60000/60000 [==============================] - 10s 172us/step - loss: 0.3808 - accuracy: 0.8594 - val_loss: 0.4066 - val_accuracy: 0.8507\n",
            "Epoch 7/10\n",
            "60000/60000 [==============================] - 10s 172us/step - loss: 0.3754 - accuracy: 0.8600 - val_loss: 0.4055 - val_accuracy: 0.8497\n",
            "Epoch 8/10\n",
            "60000/60000 [==============================] - 10s 173us/step - loss: 0.3715 - accuracy: 0.8636 - val_loss: 0.4167 - val_accuracy: 0.8555\n",
            "Epoch 9/10\n",
            "60000/60000 [==============================] - 10s 172us/step - loss: 0.3648 - accuracy: 0.8651 - val_loss: 0.3985 - val_accuracy: 0.8511\n",
            "Epoch 10/10\n",
            "60000/60000 [==============================] - 10s 172us/step - loss: 0.3620 - accuracy: 0.8649 - val_loss: 0.4013 - val_accuracy: 0.8544\n"
          ],
          "name": "stdout"
        }
      ]
    },
    {
      "cell_type": "code",
      "metadata": {
        "id": "a5BUt6K85ZDX",
        "colab_type": "code",
        "colab": {}
      },
      "source": [
        ""
      ],
      "execution_count": 18,
      "outputs": []
    },
    {
      "cell_type": "markdown",
      "metadata": {
        "id": "co6hL8KB5anz",
        "colab_type": "text"
      },
      "source": [
        "#Comparison Accuracy and Val Accuracy on original data and autoencoder data"
      ]
    },
    {
      "cell_type": "code",
      "metadata": {
        "id": "zO6yRR1CA-_v",
        "colab_type": "code",
        "colab": {
          "base_uri": "https://localhost:8080/",
          "height": 516
        },
        "outputId": "633bf546-de3f-4f34-8f5b-4d9a95362191"
      },
      "source": [
        "#accuracy visualization\n",
        "\n",
        "import matplotlib.pyplot as plt\n",
        "\n",
        "acc = model_without_autoencoder.history['accuracy']\n",
        "val_acc = model_without_autoencoder.history['val_accuracy']\n",
        "\n",
        "acc2 = model_with_autoencoder.history['accuracy']\n",
        "val_acc2 = model_with_autoencoder.history['val_accuracy']\n",
        "\n",
        "epochs = range(len(acc))\n",
        "\n",
        "fig, ax = plt.subplots(figsize=(20,8))\n",
        "ax.plot(epochs, acc, 'r', label='Training Accuracy Original Data')\n",
        "ax.plot(epochs, val_acc, 'b', label='Validation Accuracy Original Data')\n",
        "ax.plot(epochs, acc2, 'g', label='Training Accuracy Autoencoder Data')\n",
        "ax.plot(epochs, val_acc2, 'y', label='Validation Accuracy Autoencoder Data')\n",
        "ax.set_title('Training and Validation Accuracy')\n",
        "plt.legend(loc=0)\n",
        "plt.figure()\n",
        "\n",
        "plt.show()"
      ],
      "execution_count": 19,
      "outputs": [
        {
          "output_type": "display_data",
          "data": {
            "image/png": "[encoded data removed]",
            "text/plain": [
              "<Figure size 1440x576 with 1 Axes>"
            ]
          },
          "metadata": {
            "tags": [],
            "needs_background": "light"
          }
        },
        {
          "output_type": "display_data",
          "data": {
            "text/plain": [
              "<Figure size 432x288 with 0 Axes>"
            ]
          },
          "metadata": {
            "tags": []
          }
        }
      ]
    },
    {
      "cell_type": "code",
      "metadata": {
        "id": "QctGg4LmCaqm",
        "colab_type": "code",
        "colab": {}
      },
      "source": [
        ""
      ],
      "execution_count": 19,
      "outputs": []
    }
  ]
}