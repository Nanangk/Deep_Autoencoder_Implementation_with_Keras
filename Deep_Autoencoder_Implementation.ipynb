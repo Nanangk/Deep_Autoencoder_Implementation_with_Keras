{
  "nbformat": 4,
  "nbformat_minor": 0,
  "metadata": {
    "colab": {
      "name": "Deep Autoencoder Implementation.ipynb",
      "provenance": [],
      "collapsed_sections": [],
      "authorship_tag": "ABX9TyMrwCRpWlVZlmbSwiGcys1S",
      "include_colab_link": true
    },
    "kernelspec": {
      "name": "python3",
      "display_name": "Python 3"
    }
  },
  "cells": [
    {
      "cell_type": "markdown",
      "metadata": {
        "id": "view-in-github",
        "colab_type": "text"
      },
      "source": [
        "<a href=\"https://colab.research.google.com/github/Nanangk/Deep_Autoencoder_Implementation_with_Keras/blob/master/Deep_Autoencoder_Implementation.ipynb\" target=\"_parent\"><img src=\"https://colab.research.google.com/assets/colab-badge.svg\" alt=\"Open In Colab\"/></a>"
      ]
    },
    {
      "cell_type": "markdown",
      "metadata": {
        "id": "0Qt4GOFxihqN",
        "colab_type": "text"
      },
      "source": [
        "#Deep Autoencoder Implementation"
      ]
    },
    {
      "cell_type": "markdown",
      "metadata": {
        "id": "-7XKONJkhV3N",
        "colab_type": "text"
      },
      "source": [
        "This project aim to implementation of Deep Autoencoder with Keras, this project use fashion mnist dataset from keras\n",
        "\n",
        "Fashion mnist is is a dataset of 60,000 28x28 grayscale images of 10 fashion categories, along with a test set of 10,000 images. This dataset can be used as a drop-in replacement for MNIST. \n",
        "\n",
        "The class labels are:\n",
        "\n",
        "Label\tDescription\n",
        "0.\tT-shirt/top\n",
        "1.\tTrouser\n",
        "2.\tPullover\n",
        "3.\tDress\n",
        "4.\tCoat\n",
        "5.\tSandal\n",
        "6.\tShirt\n",
        "7.\tSneaker\n",
        "8.\tBag\n",
        "9.\tAnkle boot "
      ]
    },
    {
      "cell_type": "markdown",
      "metadata": {
        "id": "2qrUIDkkx7T5",
        "colab_type": "text"
      },
      "source": [
        "<h3>What is Autoencoder?</h3>\n",
        "Autoencoder is one of type neural network where the input is same as the output, autoencoder learn the input data and reconstruct the input data, autoencoder used for dimensionality reduction\n",
        "\n",
        "![Autoencoder](https://encrypted-tbn0.gstatic.com/images?q=tbn%3AANd9GcRj6teOvotqH0V03TJsL5avWnHWSUBFlJUJIgSjrdff2dz3ca5C&usqp=CAU)"
      ]
    },
    {
      "cell_type": "code",
      "metadata": {
        "id": "sTIRnlbCgmuw",
        "colab_type": "code",
        "colab": {}
      },
      "source": [
        "#import library\n",
        "from keras.datasets import fashion_mnist\n",
        "from keras.layers import Input, Dense\n",
        "from keras.models import Model"
      ],
      "execution_count": null,
      "outputs": []
    },
    {
      "cell_type": "code",
      "metadata": {
        "id": "khAw7lDCjeIs",
        "colab_type": "code",
        "colab": {}
      },
      "source": [
        "#Load Dataset\n",
        "(x_train, _), (x_test, _) = fashion_mnist.load_data()"
      ],
      "execution_count": null,
      "outputs": []
    },
    {
      "cell_type": "code",
      "metadata": {
        "id": "fm_6tKBhlA7G",
        "colab_type": "code",
        "colab": {}
      },
      "source": [
        "#Rescale  dataset\n",
        "import numpy as np\n",
        "\n",
        "x_train = x_train.astype('float32') / 255.\n",
        "x_test = x_test.astype('float32') / 255.\n",
        "x_train = x_train.reshape((len(x_train), np.prod(x_train.shape[1:])))\n",
        "x_test = x_test.reshape((len(x_test), np.prod(x_test.shape[1:])))"
      ],
      "execution_count": null,
      "outputs": []
    },
    {
      "cell_type": "code",
      "metadata": {
        "id": "JzeQhRwRliPy",
        "colab_type": "code",
        "colab": {}
      },
      "source": [
        "#Build Autoencoder Model\n",
        "input_img = Input(shape=(784,))\n",
        "encoder = Dense(128, activation='relu')(input_img)\n",
        "encoder = Dense(64, activation='relu')(encoder)\n",
        "encoder = Dense(32, activation='relu')(encoder)\n",
        "\n",
        "decoder = Dense(32, activation='relu')(encoder)\n",
        "decoder = Dense(64, activation='relu')(decoder)\n",
        "decoder = Dense(128, activation='relu')(decoder)\n",
        "decoder = Dense(784, activation='sigmoid')(decoder)\n",
        "\n",
        "autoencoder = Model(input_img, decoder)"
      ],
      "execution_count": null,
      "outputs": []
    },
    {
      "cell_type": "code",
      "metadata": {
        "id": "G1AwDqVAqMOe",
        "colab_type": "code",
        "colab": {}
      },
      "source": [
        "#compile model\n",
        "autoencoder.compile(loss = 'binary_crossentropy',\n",
        "                    optimizer = 'adam')"
      ],
      "execution_count": null,
      "outputs": []
    },
    {
      "cell_type": "code",
      "metadata": {
        "id": "53nChiIK5L3z",
        "colab_type": "code",
        "colab": {
          "base_uri": "https://localhost:8080/",
          "height": 418
        },
        "outputId": "32e4cef3-089e-412f-f6ff-1fff8d00adc7"
      },
      "source": [
        "autoencoder.summary()"
      ],
      "execution_count": null,
      "outputs": [
        {
          "output_type": "stream",
          "text": [
            "Model: \"model_5\"\n",
            "_________________________________________________________________\n",
            "Layer (type)                 Output Shape              Param #   \n",
            "=================================================================\n",
            "input_5 (InputLayer)         (None, 784)               0         \n",
            "_________________________________________________________________\n",
            "dense_101 (Dense)            (None, 128)               100480    \n",
            "_________________________________________________________________\n",
            "dense_102 (Dense)            (None, 64)                8256      \n",
            "_________________________________________________________________\n",
            "dense_103 (Dense)            (None, 32)                2080      \n",
            "_________________________________________________________________\n",
            "dense_104 (Dense)            (None, 32)                1056      \n",
            "_________________________________________________________________\n",
            "dense_105 (Dense)            (None, 64)                2112      \n",
            "_________________________________________________________________\n",
            "dense_106 (Dense)            (None, 128)               8320      \n",
            "_________________________________________________________________\n",
            "dense_107 (Dense)            (None, 784)               101136    \n",
            "=================================================================\n",
            "Total params: 223,440\n",
            "Trainable params: 223,440\n",
            "Non-trainable params: 0\n",
            "_________________________________________________________________\n"
          ],
          "name": "stdout"
        }
      ]
    },
    {
      "cell_type": "code",
      "metadata": {
        "id": "HtW07sr85gOK",
        "colab_type": "code",
        "colab": {
          "base_uri": "https://localhost:8080/",
          "height": 719
        },
        "outputId": "ccebf175-54e4-46a7-b02c-2ca09447b06a"
      },
      "source": [
        "#Training model\n",
        "autoencoder.fit(x_train, x_train,\n",
        "                epochs=20,\n",
        "                batch_size=100,\n",
        "                shuffle=True,\n",
        "                validation_data=(x_test, x_test))"
      ],
      "execution_count": null,
      "outputs": [
        {
          "output_type": "stream",
          "text": [
            "Train on 60000 samples, validate on 10000 samples\n",
            "Epoch 1/20\n",
            "60000/60000 [==============================] - 6s 102us/step - loss: 0.0433 - val_loss: 0.0084\n",
            "Epoch 2/20\n",
            "60000/60000 [==============================] - 6s 100us/step - loss: 0.0083 - val_loss: 0.0083\n",
            "Epoch 3/20\n",
            "60000/60000 [==============================] - 9s 157us/step - loss: 0.0083 - val_loss: 0.0083\n",
            "Epoch 4/20\n",
            "60000/60000 [==============================] - 7s 123us/step - loss: 0.0083 - val_loss: 0.0083\n",
            "Epoch 5/20\n",
            "60000/60000 [==============================] - 6s 101us/step - loss: 0.0082 - val_loss: 0.0082\n",
            "Epoch 6/20\n",
            "60000/60000 [==============================] - 6s 100us/step - loss: 0.0082 - val_loss: 0.0082\n",
            "Epoch 7/20\n",
            "60000/60000 [==============================] - 6s 101us/step - loss: 0.0081 - val_loss: 0.0081\n",
            "Epoch 8/20\n",
            "60000/60000 [==============================] - 6s 102us/step - loss: 0.0081 - val_loss: 0.0081\n",
            "Epoch 9/20\n",
            "60000/60000 [==============================] - 6s 101us/step - loss: 0.0081 - val_loss: 0.0081\n",
            "Epoch 10/20\n",
            "60000/60000 [==============================] - 6s 100us/step - loss: 0.0080 - val_loss: 0.0081\n",
            "Epoch 11/20\n",
            "60000/60000 [==============================] - 6s 100us/step - loss: 0.0080 - val_loss: 0.0081\n",
            "Epoch 12/20\n",
            "60000/60000 [==============================] - 6s 98us/step - loss: 0.0080 - val_loss: 0.0080\n",
            "Epoch 13/20\n",
            "60000/60000 [==============================] - 6s 98us/step - loss: 0.0080 - val_loss: 0.0080\n",
            "Epoch 14/20\n",
            "60000/60000 [==============================] - 6s 101us/step - loss: 0.0080 - val_loss: 0.0080\n",
            "Epoch 15/20\n",
            "60000/60000 [==============================] - 6s 100us/step - loss: 0.0080 - val_loss: 0.0080\n",
            "Epoch 16/20\n",
            "60000/60000 [==============================] - 6s 100us/step - loss: 0.0080 - val_loss: 0.0080\n",
            "Epoch 17/20\n",
            "60000/60000 [==============================] - 6s 99us/step - loss: 0.0080 - val_loss: 0.0080\n",
            "Epoch 18/20\n",
            "60000/60000 [==============================] - 6s 100us/step - loss: 0.0080 - val_loss: 0.0080\n",
            "Epoch 19/20\n",
            "60000/60000 [==============================] - 6s 105us/step - loss: 0.0080 - val_loss: 0.0080\n",
            "Epoch 20/20\n",
            "60000/60000 [==============================] - 6s 106us/step - loss: 0.0080 - val_loss: 0.0080\n"
          ],
          "name": "stdout"
        },
        {
          "output_type": "execute_result",
          "data": {
            "text/plain": [
              "<keras.callbacks.callbacks.History at 0x7fdb522deef0>"
            ]
          },
          "metadata": {
            "tags": []
          },
          "execution_count": 96
        }
      ]
    },
    {
      "cell_type": "code",
      "metadata": {
        "id": "er4rCMMn5OxE",
        "colab_type": "code",
        "colab": {
          "base_uri": "https://localhost:8080/",
          "height": 273
        },
        "outputId": "41e59a6f-685f-4245-eb82-12be491c3b6b"
      },
      "source": [
        "import matplotlib.pyplot as plt\n",
        "decoded_imgs = autoencoder.predict(x_test)\n",
        "\n",
        "n = 10\n",
        "plt.figure(figsize=(25, 5))\n",
        "for i in range(n):\n",
        "    # display original\n",
        "    ax = plt.subplot(2, n, i+1)\n",
        "    plt.imshow(x_test[i].reshape(28, 28))\n",
        "    plt.gray()\n",
        "    ax.get_xaxis().set_visible(False)\n",
        "    ax.get_yaxis().set_visible(False)\n",
        "\n",
        "    # display reconstruction\n",
        "    ax = plt.subplot(2, n, i+1 + n)\n",
        "    plt.imshow(decoded_imgs[i].reshape(28, 28))\n",
        "    plt.gray()\n",
        "    ax.get_xaxis().set_visible(False)\n",
        "    ax.get_yaxis().set_visible(False)\n",
        "    \n",
        "plt.show()"
      ],
      "execution_count": null,
      "outputs": [
        {
          "output_type": "display_data",
          "data": {
            "image/png": "[encoded data removed]",
            "text/plain": [
              "<Figure size 1800x360 with 20 Axes>"
            ]
          },
          "metadata": {
            "tags": [],
            "needs_background": "light"
          }
        }
      ]
    },
    {
      "cell_type": "code",
      "metadata": {
        "id": "sN0cTcN-8z-p",
        "colab_type": "code",
        "colab": {}
      },
      "source": [
        ""
      ],
      "execution_count": null,
      "outputs": []
    }
  ]
}