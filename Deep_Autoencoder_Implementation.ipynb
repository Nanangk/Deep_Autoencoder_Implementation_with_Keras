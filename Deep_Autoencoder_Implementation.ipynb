{
  "nbformat": 4,
  "nbformat_minor": 0,
  "metadata": {
    "colab": {
      "name": "Deep Autoencoder Implementation.ipynb",
      "provenance": [],
      "collapsed_sections": [],
      "authorship_tag": "ABX9TyNBE2c6yYbT8D1ebDLAWoVO",
      "include_colab_link": true
    },
    "kernelspec": {
      "name": "python3",
      "display_name": "Python 3"
    }
  },
  "cells": [
    {
      "cell_type": "markdown",
      "metadata": {
        "id": "view-in-github",
        "colab_type": "text"
      },
      "source": [
        "<a href=\"https://colab.research.google.com/github/Nanangk/Deep_Autoencoder_Implementation_with_Keras/blob/master/Deep_Autoencoder_Implementation.ipynb\" target=\"_parent\"><img src=\"https://colab.research.google.com/assets/colab-badge.svg\" alt=\"Open In Colab\"/></a>"
      ]
    },
    {
      "cell_type": "markdown",
      "metadata": {
        "id": "0Qt4GOFxihqN",
        "colab_type": "text"
      },
      "source": [
        "#Deep Autoencoder Implementation"
      ]
    },
    {
      "cell_type": "markdown",
      "metadata": {
        "id": "-7XKONJkhV3N",
        "colab_type": "text"
      },
      "source": [
        "This project aim to implementation of Deep Autoencoder with Keras, this project use fashion mnist dataset from keras\n",
        "\n",
        "Fashion mnist is is a dataset of 60,000 28x28 grayscale images of 10 fashion categories, along with a test set of 10,000 images. This dataset can be used as a drop-in replacement for MNIST. \n",
        "\n",
        "The class labels are:\n",
        "\n",
        "Label\tDescription\n",
        "0.\tT-shirt/top\n",
        "1.\tTrouser\n",
        "2.\tPullover\n",
        "3.\tDress\n",
        "4.\tCoat\n",
        "5.\tSandal\n",
        "6.\tShirt\n",
        "7.\tSneaker\n",
        "8.\tBag\n",
        "9.\tAnkle boot "
      ]
    },
    {
      "cell_type": "markdown",
      "metadata": {
        "id": "2qrUIDkkx7T5",
        "colab_type": "text"
      },
      "source": [
        "<h3>What is Autoencoder?</h3>\n",
        "Autoencoder is one of type neural network where the input is same as the output, autoencoder learn the input data and reconstruct the input data, autoencoder used for dimensionality reduction\n",
        "\n",
        "![Autoencoder](https://encrypted-tbn0.gstatic.com/images?q=tbn%3AANd9GcRj6teOvotqH0V03TJsL5avWnHWSUBFlJUJIgSjrdff2dz3ca5C&usqp=CAU)"
      ]
    },
    {
      "cell_type": "code",
      "metadata": {
        "id": "sTIRnlbCgmuw",
        "colab_type": "code",
        "colab": {
          "base_uri": "https://localhost:8080/",
          "height": 33
        },
        "outputId": "16490482-9205-44eb-ab94-e72d6f34c027"
      },
      "source": [
        "#import library\n",
        "from keras.datasets import fashion_mnist\n",
        "from keras.layers import Input, Dense\n",
        "from keras.models import Model"
      ],
      "execution_count": 1,
      "outputs": [
        {
          "output_type": "stream",
          "text": [
            "Using TensorFlow backend.\n"
          ],
          "name": "stderr"
        }
      ]
    },
    {
      "cell_type": "code",
      "metadata": {
        "id": "khAw7lDCjeIs",
        "colab_type": "code",
        "colab": {
          "base_uri": "https://localhost:8080/",
          "height": 150
        },
        "outputId": "5fee05f4-08d1-4244-c0c4-34d0f18ae463"
      },
      "source": [
        "#Load Dataset\n",
        "(x_train, _), (x_test, _) = fashion_mnist.load_data()"
      ],
      "execution_count": 2,
      "outputs": [
        {
          "output_type": "stream",
          "text": [
            "Downloading data from http://fashion-mnist.s3-website.eu-central-1.amazonaws.com/train-labels-idx1-ubyte.gz\n",
            "32768/29515 [=================================] - 0s 8us/step\n",
            "Downloading data from http://fashion-mnist.s3-website.eu-central-1.amazonaws.com/train-images-idx3-ubyte.gz\n",
            "26427392/26421880 [==============================] - 4s 0us/step\n",
            "Downloading data from http://fashion-mnist.s3-website.eu-central-1.amazonaws.com/t10k-labels-idx1-ubyte.gz\n",
            "8192/5148 [===============================================] - 0s 0us/step\n",
            "Downloading data from http://fashion-mnist.s3-website.eu-central-1.amazonaws.com/t10k-images-idx3-ubyte.gz\n",
            "4423680/4422102 [==============================] - 2s 0us/step\n"
          ],
          "name": "stdout"
        }
      ]
    },
    {
      "cell_type": "code",
      "metadata": {
        "id": "fm_6tKBhlA7G",
        "colab_type": "code",
        "colab": {}
      },
      "source": [
        "#Rescale  dataset\n",
        "import numpy as np\n",
        "\n",
        "x_train = x_train.astype('float32') / 255.\n",
        "x_test = x_test.astype('float32') / 255.\n",
        "x_train = x_train.reshape((len(x_train), np.prod(x_train.shape[1:])))\n",
        "x_test = x_test.reshape((len(x_test), np.prod(x_test.shape[1:])))"
      ],
      "execution_count": 3,
      "outputs": []
    },
    {
      "cell_type": "code",
      "metadata": {
        "id": "JzeQhRwRliPy",
        "colab_type": "code",
        "colab": {}
      },
      "source": [
        "#Build Autoencoder Model\n",
        "\n",
        "target_dimension = 16\n",
        "\n",
        "#Encoder\n",
        "input_img = Input(shape=(784,))\n",
        "encoder = Dense(128, activation='relu')(input_img)\n",
        "encoder = Dense(64, activation='relu')(encoder)\n",
        "encoder = Dense(32, activation='relu')(encoder)\n",
        "\n",
        "#code\n",
        "coded = Dense(target_dimension, activation='relu')(encoder)\n",
        "\n",
        "#Decoder\n",
        "decoder = Dense(32, activation='relu')(coded)\n",
        "decoder = Dense(64, activation='relu')(decoder)\n",
        "decoder = Dense(128, activation='relu')(decoder)\n",
        "decoder = Dense(784, activation='sigmoid')(decoder)\n",
        "\n",
        "autoencoder = Model(input_img, decoder)"
      ],
      "execution_count": 4,
      "outputs": []
    },
    {
      "cell_type": "code",
      "metadata": {
        "id": "G1AwDqVAqMOe",
        "colab_type": "code",
        "colab": {}
      },
      "source": [
        "#compile model\n",
        "autoencoder.compile(loss = 'binary_crossentropy',\n",
        "                    optimizer = 'adam')"
      ],
      "execution_count": 5,
      "outputs": []
    },
    {
      "cell_type": "code",
      "metadata": {
        "id": "53nChiIK5L3z",
        "colab_type": "code",
        "colab": {
          "base_uri": "https://localhost:8080/",
          "height": 452
        },
        "outputId": "8e437965-124b-480e-9516-6852e819d91d"
      },
      "source": [
        "autoencoder.summary()"
      ],
      "execution_count": 6,
      "outputs": [
        {
          "output_type": "stream",
          "text": [
            "Model: \"model_1\"\n",
            "_________________________________________________________________\n",
            "Layer (type)                 Output Shape              Param #   \n",
            "=================================================================\n",
            "input_1 (InputLayer)         (None, 784)               0         \n",
            "_________________________________________________________________\n",
            "dense_1 (Dense)              (None, 128)               100480    \n",
            "_________________________________________________________________\n",
            "dense_2 (Dense)              (None, 64)                8256      \n",
            "_________________________________________________________________\n",
            "dense_3 (Dense)              (None, 32)                2080      \n",
            "_________________________________________________________________\n",
            "dense_4 (Dense)              (None, 16)                528       \n",
            "_________________________________________________________________\n",
            "dense_5 (Dense)              (None, 32)                544       \n",
            "_________________________________________________________________\n",
            "dense_6 (Dense)              (None, 64)                2112      \n",
            "_________________________________________________________________\n",
            "dense_7 (Dense)              (None, 128)               8320      \n",
            "_________________________________________________________________\n",
            "dense_8 (Dense)              (None, 784)               101136    \n",
            "=================================================================\n",
            "Total params: 223,456\n",
            "Trainable params: 223,456\n",
            "Non-trainable params: 0\n",
            "_________________________________________________________________\n"
          ],
          "name": "stdout"
        }
      ]
    },
    {
      "cell_type": "code",
      "metadata": {
        "id": "HtW07sr85gOK",
        "colab_type": "code",
        "colab": {
          "base_uri": "https://localhost:8080/",
          "height": 719
        },
        "outputId": "7caa3ce4-1149-4d84-ad64-347126d3f682"
      },
      "source": [
        "#Training model\n",
        "autoencoder.fit(x_train, x_train,\n",
        "                epochs=20,\n",
        "                batch_size=100,\n",
        "                shuffle=True,\n",
        "                validation_data=(x_test, x_test))"
      ],
      "execution_count": 7,
      "outputs": [
        {
          "output_type": "stream",
          "text": [
            "Train on 60000 samples, validate on 10000 samples\n",
            "Epoch 1/20\n",
            "60000/60000 [==============================] - 7s 119us/step - loss: 0.3610 - val_loss: 0.3151\n",
            "Epoch 2/20\n",
            "60000/60000 [==============================] - 7s 111us/step - loss: 0.3077 - val_loss: 0.3058\n",
            "Epoch 3/20\n",
            "60000/60000 [==============================] - 7s 109us/step - loss: 0.3004 - val_loss: 0.3000\n",
            "Epoch 4/20\n",
            "60000/60000 [==============================] - 7s 109us/step - loss: 0.2969 - val_loss: 0.2976\n",
            "Epoch 5/20\n",
            "60000/60000 [==============================] - 7s 109us/step - loss: 0.2948 - val_loss: 0.2958\n",
            "Epoch 6/20\n",
            "60000/60000 [==============================] - 6s 107us/step - loss: 0.2933 - val_loss: 0.2946\n",
            "Epoch 7/20\n",
            "60000/60000 [==============================] - 7s 109us/step - loss: 0.2920 - val_loss: 0.2936\n",
            "Epoch 8/20\n",
            "60000/60000 [==============================] - 7s 109us/step - loss: 0.2909 - val_loss: 0.2931\n",
            "Epoch 9/20\n",
            "60000/60000 [==============================] - 7s 110us/step - loss: 0.2900 - val_loss: 0.2918\n",
            "Epoch 10/20\n",
            "60000/60000 [==============================] - 7s 110us/step - loss: 0.2891 - val_loss: 0.2911\n",
            "Epoch 11/20\n",
            "60000/60000 [==============================] - 7s 110us/step - loss: 0.2884 - val_loss: 0.2904\n",
            "Epoch 12/20\n",
            "60000/60000 [==============================] - 7s 109us/step - loss: 0.2879 - val_loss: 0.2899\n",
            "Epoch 13/20\n",
            "60000/60000 [==============================] - 7s 110us/step - loss: 0.2875 - val_loss: 0.2898\n",
            "Epoch 14/20\n",
            "60000/60000 [==============================] - 7s 111us/step - loss: 0.2870 - val_loss: 0.2890\n",
            "Epoch 15/20\n",
            "60000/60000 [==============================] - 7s 112us/step - loss: 0.2867 - val_loss: 0.2891\n",
            "Epoch 16/20\n",
            "60000/60000 [==============================] - 7s 115us/step - loss: 0.2863 - val_loss: 0.2888\n",
            "Epoch 17/20\n",
            "60000/60000 [==============================] - 7s 117us/step - loss: 0.2861 - val_loss: 0.2882\n",
            "Epoch 18/20\n",
            "60000/60000 [==============================] - 7s 111us/step - loss: 0.2858 - val_loss: 0.2880\n",
            "Epoch 19/20\n",
            "60000/60000 [==============================] - 7s 110us/step - loss: 0.2856 - val_loss: 0.2878\n",
            "Epoch 20/20\n",
            "60000/60000 [==============================] - 7s 110us/step - loss: 0.2853 - val_loss: 0.2879\n"
          ],
          "name": "stdout"
        },
        {
          "output_type": "execute_result",
          "data": {
            "text/plain": [
              "<keras.callbacks.callbacks.History at 0x7ff9947f08d0>"
            ]
          },
          "metadata": {
            "tags": []
          },
          "execution_count": 7
        }
      ]
    },
    {
      "cell_type": "code",
      "metadata": {
        "id": "er4rCMMn5OxE",
        "colab_type": "code",
        "colab": {
          "base_uri": "https://localhost:8080/",
          "height": 273
        },
        "outputId": "c131d3a0-37a9-46ae-cd19-eb0cf2edc424"
      },
      "source": [
        "#Display original data and reconstruction data\n",
        "import matplotlib.pyplot as plt\n",
        "decoded_imgs = autoencoder.predict(x_test)\n",
        "\n",
        "n = 10\n",
        "plt.figure(figsize=(25, 5))\n",
        "for i in range(n):\n",
        "    # display original\n",
        "    ax = plt.subplot(2, n, i+1)\n",
        "    plt.imshow(x_test[i].reshape(28, 28))\n",
        "    plt.gray()\n",
        "    ax.get_xaxis().set_visible(False)\n",
        "    ax.get_yaxis().set_visible(False)\n",
        "\n",
        "    # display reconstruction\n",
        "    ax = plt.subplot(2, n, i+1 + n)\n",
        "    plt.imshow(decoded_imgs[i].reshape(28, 28))\n",
        "    plt.gray()\n",
        "    ax.get_xaxis().set_visible(False)\n",
        "    ax.get_yaxis().set_visible(False)\n",
        "    \n",
        "plt.show()"
      ],
      "execution_count": 9,
      "outputs": [
        {
          "output_type": "display_data",
          "data": {
            "image/png": "[encoded data removed]",
            "text/plain": [
              "<Figure size 1800x360 with 20 Axes>"
            ]
          },
          "metadata": {
            "tags": [],
            "needs_background": "light"
          }
        }
      ]
    },
    {
      "cell_type": "code",
      "metadata": {
        "id": "sN0cTcN-8z-p",
        "colab_type": "code",
        "colab": {}
      },
      "source": [
        ""
      ],
      "execution_count": 8,
      "outputs": []
    }
  ]
}