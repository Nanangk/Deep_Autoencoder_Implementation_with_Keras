{
  "nbformat": 4,
  "nbformat_minor": 0,
  "metadata": {
    "colab": {
      "name": "Deep Autoencoder Implementation.ipynb",
      "provenance": [],
      "collapsed_sections": [],
      "authorship_tag": "ABX9TyN2r7dUIAEafHhc9M+nipdv",
      "include_colab_link": true
    },
    "kernelspec": {
      "name": "python3",
      "display_name": "Python 3"
    },
    "accelerator": "GPU"
  },
  "cells": [
    {
      "cell_type": "markdown",
      "metadata": {
        "id": "view-in-github",
        "colab_type": "text"
      },
      "source": [
        "<a href=\"https://colab.research.google.com/github/Nanangk/Deep_Autoencoder_Implementation_with_Keras/blob/master/Deep_Autoencoder_Implementation.ipynb\" target=\"_parent\"><img src=\"https://colab.research.google.com/assets/colab-badge.svg\" alt=\"Open In Colab\"/></a>"
      ]
    },
    {
      "cell_type": "markdown",
      "metadata": {
        "id": "0Qt4GOFxihqN",
        "colab_type": "text"
      },
      "source": [
        "#Deep Autoencoder Implementation"
      ]
    },
    {
      "cell_type": "markdown",
      "metadata": {
        "id": "-7XKONJkhV3N",
        "colab_type": "text"
      },
      "source": [
        "This project aim to implementation of Deep Autoencoder with Keras, this project use fashion mnist dataset from keras\n",
        "\n",
        "Fashion mnist is a dataset of 60,000 28x28 grayscale images of 10 fashion categories, along with a test set of 10,000 images. This dataset can be used as a drop-in replacement for MNIST. \n",
        "\n",
        "The class labels are:\n",
        "\n",
        "Label\tDescription\n",
        "0.\tT-shirt/top\n",
        "1.\tTrouser\n",
        "2.\tPullover\n",
        "3.\tDress\n",
        "4.\tCoat\n",
        "5.\tSandal\n",
        "6.\tShirt\n",
        "7.\tSneaker\n",
        "8.\tBag\n",
        "9.\tAnkle boot "
      ]
    },
    {
      "cell_type": "markdown",
      "metadata": {
        "id": "2qrUIDkkx7T5",
        "colab_type": "text"
      },
      "source": [
        "<h3>What is Autoencoder?</h3>\n",
        "Autoencoder is one of type neural network where the input is same as the output, autoencoder learn the input data and reconstruct the input data, autoencoder used for dimensionality reduction\n",
        "\n",
        "![Autoencoder](https://encrypted-tbn0.gstatic.com/images?q=tbn%3AANd9GcRj6teOvotqH0V03TJsL5avWnHWSUBFlJUJIgSjrdff2dz3ca5C&usqp=CAU)"
      ]
    },
    {
      "cell_type": "code",
      "metadata": {
        "id": "sTIRnlbCgmuw",
        "colab_type": "code",
        "colab": {}
      },
      "source": [
        "#import library\n",
        "from keras.datasets import fashion_mnist\n",
        "from keras.layers import Input, Dense\n",
        "from keras.models import Model"
      ],
      "execution_count": 41,
      "outputs": []
    },
    {
      "cell_type": "code",
      "metadata": {
        "id": "khAw7lDCjeIs",
        "colab_type": "code",
        "colab": {}
      },
      "source": [
        "#Load Dataset\n",
        "(x_train, y_train), (x_test, y_test) = fashion_mnist.load_data()"
      ],
      "execution_count": 42,
      "outputs": []
    },
    {
      "cell_type": "code",
      "metadata": {
        "id": "fm_6tKBhlA7G",
        "colab_type": "code",
        "colab": {}
      },
      "source": [
        "#Rescale  dataset\n",
        "import numpy as np\n",
        "\n",
        "x_train = x_train.astype('float32') / 255.\n",
        "x_test = x_test.astype('float32') / 255.\n",
        "x_train = x_train.reshape((len(x_train), np.prod(x_train.shape[1:])))\n",
        "x_test = x_test.reshape((len(x_test), np.prod(x_test.shape[1:])))"
      ],
      "execution_count": 43,
      "outputs": []
    },
    {
      "cell_type": "code",
      "metadata": {
        "id": "JzeQhRwRliPy",
        "colab_type": "code",
        "colab": {}
      },
      "source": [
        "#Build Autoencoder Model\n",
        "\n",
        "target_dimension = 16\n",
        "\n",
        "#Encoder\n",
        "input_img = Input(shape=(784,))\n",
        "encoder = Dense(128, activation='relu')(input_img)\n",
        "encoder = Dense(64, activation='relu')(encoder)\n",
        "encoder = Dense(32, activation='relu')(encoder)\n",
        "\n",
        "#code\n",
        "coded = Dense(target_dimension, activation='relu')(encoder)\n",
        "\n",
        "#Decoder\n",
        "decoder = Dense(32, activation='relu')(coded)\n",
        "decoder = Dense(64, activation='relu')(decoder)\n",
        "decoder = Dense(128, activation='relu')(decoder)\n",
        "decoder = Dense(784, activation='sigmoid')(decoder)\n",
        "\n",
        "autoencoder = Model(input_img, decoder)"
      ],
      "execution_count": 44,
      "outputs": []
    },
    {
      "cell_type": "code",
      "metadata": {
        "id": "G1AwDqVAqMOe",
        "colab_type": "code",
        "colab": {}
      },
      "source": [
        "#compile model\n",
        "autoencoder.compile(loss = 'binary_crossentropy',\n",
        "                    optimizer = 'adam')"
      ],
      "execution_count": 45,
      "outputs": []
    },
    {
      "cell_type": "code",
      "metadata": {
        "id": "53nChiIK5L3z",
        "colab_type": "code",
        "colab": {
          "base_uri": "https://localhost:8080/",
          "height": 452
        },
        "outputId": "89696367-fce1-45ef-a364-4189a5899437"
      },
      "source": [
        "autoencoder.summary()"
      ],
      "execution_count": 46,
      "outputs": [
        {
          "output_type": "stream",
          "text": [
            "Model: \"model_4\"\n",
            "_________________________________________________________________\n",
            "Layer (type)                 Output Shape              Param #   \n",
            "=================================================================\n",
            "input_6 (InputLayer)         (None, 784)               0         \n",
            "_________________________________________________________________\n",
            "dense_45 (Dense)             (None, 128)               100480    \n",
            "_________________________________________________________________\n",
            "dense_46 (Dense)             (None, 64)                8256      \n",
            "_________________________________________________________________\n",
            "dense_47 (Dense)             (None, 32)                2080      \n",
            "_________________________________________________________________\n",
            "dense_48 (Dense)             (None, 16)                528       \n",
            "_________________________________________________________________\n",
            "dense_49 (Dense)             (None, 32)                544       \n",
            "_________________________________________________________________\n",
            "dense_50 (Dense)             (None, 64)                2112      \n",
            "_________________________________________________________________\n",
            "dense_51 (Dense)             (None, 128)               8320      \n",
            "_________________________________________________________________\n",
            "dense_52 (Dense)             (None, 784)               101136    \n",
            "=================================================================\n",
            "Total params: 223,456\n",
            "Trainable params: 223,456\n",
            "Non-trainable params: 0\n",
            "_________________________________________________________________\n"
          ],
          "name": "stdout"
        }
      ]
    },
    {
      "cell_type": "code",
      "metadata": {
        "id": "HtW07sr85gOK",
        "colab_type": "code",
        "colab": {
          "base_uri": "https://localhost:8080/",
          "height": 719
        },
        "outputId": "c28c9d81-a811-4d22-91af-d1080163e511"
      },
      "source": [
        "#Training model\n",
        "autoencoder.fit(x_train, x_train,\n",
        "                epochs=20,\n",
        "                batch_size=100,\n",
        "                shuffle=True,\n",
        "                validation_data=(x_test, x_test))"
      ],
      "execution_count": 47,
      "outputs": [
        {
          "output_type": "stream",
          "text": [
            "Train on 60000 samples, validate on 10000 samples\n",
            "Epoch 1/20\n",
            "60000/60000 [==============================] - 4s 72us/step - loss: 0.3584 - val_loss: 0.3161\n",
            "Epoch 2/20\n",
            "60000/60000 [==============================] - 4s 68us/step - loss: 0.3090 - val_loss: 0.3079\n",
            "Epoch 3/20\n",
            "60000/60000 [==============================] - 4s 67us/step - loss: 0.3027 - val_loss: 0.3023\n",
            "Epoch 4/20\n",
            "60000/60000 [==============================] - 4s 69us/step - loss: 0.2986 - val_loss: 0.2993\n",
            "Epoch 5/20\n",
            "60000/60000 [==============================] - 4s 72us/step - loss: 0.2956 - val_loss: 0.2966\n",
            "Epoch 6/20\n",
            "60000/60000 [==============================] - 4s 71us/step - loss: 0.2934 - val_loss: 0.2942\n",
            "Epoch 7/20\n",
            "60000/60000 [==============================] - 4s 68us/step - loss: 0.2912 - val_loss: 0.2925\n",
            "Epoch 8/20\n",
            "60000/60000 [==============================] - 4s 67us/step - loss: 0.2896 - val_loss: 0.2909\n",
            "Epoch 9/20\n",
            "60000/60000 [==============================] - 4s 67us/step - loss: 0.2882 - val_loss: 0.2900\n",
            "Epoch 10/20\n",
            "60000/60000 [==============================] - 4s 67us/step - loss: 0.2871 - val_loss: 0.2888\n",
            "Epoch 11/20\n",
            "60000/60000 [==============================] - 4s 67us/step - loss: 0.2862 - val_loss: 0.2886\n",
            "Epoch 12/20\n",
            "60000/60000 [==============================] - 4s 67us/step - loss: 0.2853 - val_loss: 0.2877\n",
            "Epoch 13/20\n",
            "60000/60000 [==============================] - 4s 67us/step - loss: 0.2846 - val_loss: 0.2868\n",
            "Epoch 14/20\n",
            "60000/60000 [==============================] - 4s 67us/step - loss: 0.2839 - val_loss: 0.2857\n",
            "Epoch 15/20\n",
            "60000/60000 [==============================] - 4s 67us/step - loss: 0.2832 - val_loss: 0.2856\n",
            "Epoch 16/20\n",
            "60000/60000 [==============================] - 4s 67us/step - loss: 0.2827 - val_loss: 0.2849\n",
            "Epoch 17/20\n",
            "60000/60000 [==============================] - 4s 67us/step - loss: 0.2823 - val_loss: 0.2846\n",
            "Epoch 18/20\n",
            "60000/60000 [==============================] - 4s 67us/step - loss: 0.2820 - val_loss: 0.2841\n",
            "Epoch 19/20\n",
            "60000/60000 [==============================] - 4s 68us/step - loss: 0.2816 - val_loss: 0.2838\n",
            "Epoch 20/20\n",
            "60000/60000 [==============================] - 4s 67us/step - loss: 0.2813 - val_loss: 0.2837\n"
          ],
          "name": "stdout"
        },
        {
          "output_type": "execute_result",
          "data": {
            "text/plain": [
              "<keras.callbacks.callbacks.History at 0x7f1d5c9de5f8>"
            ]
          },
          "metadata": {
            "tags": []
          },
          "execution_count": 47
        }
      ]
    },
    {
      "cell_type": "code",
      "metadata": {
        "id": "er4rCMMn5OxE",
        "colab_type": "code",
        "colab": {
          "base_uri": "https://localhost:8080/",
          "height": 273
        },
        "outputId": "458eeebb-44b0-4f2c-da21-b41f424f0b18"
      },
      "source": [
        "#Display original data and reconstruction data\n",
        "import matplotlib.pyplot as plt\n",
        "decoded_imgs = autoencoder.predict(x_test)\n",
        "\n",
        "n = 10\n",
        "plt.figure(figsize=(25, 5))\n",
        "for i in range(n):\n",
        "    # display original\n",
        "    ax = plt.subplot(2, n, i+1)\n",
        "    plt.imshow(x_test[i].reshape(28, 28))\n",
        "    plt.gray()\n",
        "    ax.get_xaxis().set_visible(False)\n",
        "    ax.get_yaxis().set_visible(False)\n",
        "\n",
        "    # display reconstruction\n",
        "    ax = plt.subplot(2, n, i+1 + n)\n",
        "    plt.imshow(decoded_imgs[i].reshape(28, 28))\n",
        "    plt.gray()\n",
        "    ax.get_xaxis().set_visible(False)\n",
        "    ax.get_yaxis().set_visible(False)\n",
        "    \n",
        "plt.show()"
      ],
      "execution_count": 48,
      "outputs": [
        {
          "output_type": "display_data",
          "data": {
            "image/png": "[encoded data removed]",
            "text/plain": [
              "<Figure size 1800x360 with 20 Axes>"
            ]
          },
          "metadata": {
            "tags": [],
            "needs_background": "light"
          }
        }
      ]
    },
    {
      "cell_type": "markdown",
      "metadata": {
        "id": "2gLo4OjG3qoq",
        "colab_type": "text"
      },
      "source": [
        "#Build Classifier Model"
      ]
    },
    {
      "cell_type": "code",
      "metadata": {
        "id": "yeH4AfD43oMr",
        "colab_type": "code",
        "colab": {}
      },
      "source": [
        "#impoert library\n",
        "import tensorflow as tf\n",
        "import keras\n",
        "from keras.models import Sequential\n",
        "from keras.layers import Conv2D, MaxPooling2D\n",
        "from keras.layers import Dense, Dropout, Activation, Flatten"
      ],
      "execution_count": 49,
      "outputs": []
    },
    {
      "cell_type": "code",
      "metadata": {
        "id": "feEhrBis3xgL",
        "colab_type": "code",
        "colab": {}
      },
      "source": [
        "y_train = keras.utils.to_categorical(y_train, 10)\n",
        "y_test = keras.utils.to_categorical(y_test, 10)"
      ],
      "execution_count": 50,
      "outputs": []
    },
    {
      "cell_type": "code",
      "metadata": {
        "id": "BxtuKwx-3315",
        "colab_type": "code",
        "colab": {
          "base_uri": "https://localhost:8080/",
          "height": 70
        },
        "outputId": "b174f616-4b58-417a-e0a3-859c27267156"
      },
      "source": [
        "#Build CNN Model\n",
        "model = Sequential()\n",
        "model.add(Conv2D(32, kernel_size = (3,3), activation='linear', padding='same', input_shape=(28,28,1)))\n",
        "model.add(Conv2D(64, (3,3), activation='linear', padding='same'))\n",
        "model.add(MaxPooling2D(pool_size=(2,2)))\n",
        "model.add(Dropout(0.25))\n",
        "model.add(Flatten())\n",
        "model.add(Dense(64, activation='linear'))\n",
        "model.add(Dropout(0.25))\n",
        "model.add(Dense(10, activation=Activation(tf.nn.softmax)))"
      ],
      "execution_count": 51,
      "outputs": [
        {
          "output_type": "stream",
          "text": [
            "/usr/local/lib/python3.6/dist-packages/keras/activations.py:235: UserWarning: Do not pass a layer instance (such as Activation) as the activation argument of another layer. Instead, advanced activation layers should be used just like any other layer in a model.\n",
            "  identifier=identifier.__class__.__name__))\n"
          ],
          "name": "stderr"
        }
      ]
    },
    {
      "cell_type": "code",
      "metadata": {
        "id": "0WbJupAx4AqE",
        "colab_type": "code",
        "colab": {}
      },
      "source": [
        "model.compile(loss=keras.losses.categorical_crossentropy,\n",
        "              optimizer=keras.optimizers.Adadelta(), metrics=['accuracy'])"
      ],
      "execution_count": 52,
      "outputs": []
    },
    {
      "cell_type": "code",
      "metadata": {
        "id": "i_vjS32C65c6",
        "colab_type": "code",
        "colab": {
          "base_uri": "https://localhost:8080/",
          "height": 33
        },
        "outputId": "7318d7b4-f9e9-4a35-e3e8-06fc165cb212"
      },
      "source": [
        "x_test[0].shape"
      ],
      "execution_count": 61,
      "outputs": [
        {
          "output_type": "execute_result",
          "data": {
            "text/plain": [
              "(28, 28, 1)"
            ]
          },
          "metadata": {
            "tags": []
          },
          "execution_count": 61
        }
      ]
    },
    {
      "cell_type": "code",
      "metadata": {
        "id": "8mavODE79Ajk",
        "colab_type": "code",
        "colab": {}
      },
      "source": [
        "x_train = np.reshape(x_train, (len(x_train), 28, 28, 1)) \n",
        "x_test = np.reshape(x_test, (len(x_test), 28, 28, 1))"
      ],
      "execution_count": 60,
      "outputs": []
    },
    {
      "cell_type": "code",
      "metadata": {
        "id": "Q7lkZq9J4Eqd",
        "colab_type": "code",
        "colab": {
          "base_uri": "https://localhost:8080/",
          "height": 368
        },
        "outputId": "dee392e7-9da3-4e4f-b43e-fdd08b3c126a"
      },
      "source": [
        "#Train model without autoencoder image\n",
        "model_without_autoencoder = model.fit(x_train, y_train, \n",
        "          batch_size=64, \n",
        "          epochs=10, \n",
        "          verbose=1,\n",
        "          validation_data=(x_test, y_test)\n",
        "          )"
      ],
      "execution_count": 62,
      "outputs": [
        {
          "output_type": "stream",
          "text": [
            "Train on 60000 samples, validate on 10000 samples\n",
            "Epoch 1/10\n",
            "60000/60000 [==============================] - 16s 271us/step - loss: 0.4422 - accuracy: 0.8478 - val_loss: 0.4012 - val_accuracy: 0.8553\n",
            "Epoch 2/10\n",
            "60000/60000 [==============================] - 12s 195us/step - loss: 0.3187 - accuracy: 0.8888 - val_loss: 0.3235 - val_accuracy: 0.8845\n",
            "Epoch 3/10\n",
            "60000/60000 [==============================] - 12s 194us/step - loss: 0.2859 - accuracy: 0.8986 - val_loss: 0.3047 - val_accuracy: 0.8911\n",
            "Epoch 4/10\n",
            "60000/60000 [==============================] - 12s 194us/step - loss: 0.2684 - accuracy: 0.9048 - val_loss: 0.2854 - val_accuracy: 0.8984\n",
            "Epoch 5/10\n",
            "60000/60000 [==============================] - 12s 194us/step - loss: 0.2526 - accuracy: 0.9099 - val_loss: 0.3415 - val_accuracy: 0.8837\n",
            "Epoch 6/10\n",
            "60000/60000 [==============================] - 12s 195us/step - loss: 0.2417 - accuracy: 0.9143 - val_loss: 0.2982 - val_accuracy: 0.8939\n",
            "Epoch 7/10\n",
            "60000/60000 [==============================] - 12s 195us/step - loss: 0.2333 - accuracy: 0.9166 - val_loss: 0.2961 - val_accuracy: 0.8991\n",
            "Epoch 8/10\n",
            "60000/60000 [==============================] - 12s 195us/step - loss: 0.2263 - accuracy: 0.9191 - val_loss: 0.2955 - val_accuracy: 0.8980\n",
            "Epoch 9/10\n",
            "60000/60000 [==============================] - 12s 200us/step - loss: 0.2194 - accuracy: 0.9222 - val_loss: 0.2949 - val_accuracy: 0.9001\n",
            "Epoch 10/10\n",
            "60000/60000 [==============================] - 12s 203us/step - loss: 0.2159 - accuracy: 0.9227 - val_loss: 0.2869 - val_accuracy: 0.9025\n"
          ],
          "name": "stdout"
        }
      ]
    },
    {
      "cell_type": "code",
      "metadata": {
        "id": "cLMe5q_gA884",
        "colab_type": "code",
        "colab": {}
      },
      "source": [
        "x_train = x_train.reshape((len(x_train), np.prod(x_train.shape[1:])))\n",
        "x_test = x_test.reshape((len(x_test), np.prod(x_test.shape[1:])))\n",
        "\n",
        "\n",
        "decoded_train_imgs = autoencoder.predict(x_train)\n",
        "decoded_test_imgs = autoencoder.predict(x_test)"
      ],
      "execution_count": 65,
      "outputs": []
    },
    {
      "cell_type": "code",
      "metadata": {
        "id": "agWgM1VdBkUV",
        "colab_type": "code",
        "colab": {}
      },
      "source": [
        "decoded_train_imgs = np.reshape(decoded_train_imgs, (len(decoded_train_imgs), 28, 28, 1)) \n",
        "decoded_test_imgs = np.reshape(decoded_test_imgs, (len(decoded_test_imgs), 28, 28, 1))"
      ],
      "execution_count": 66,
      "outputs": []
    },
    {
      "cell_type": "code",
      "metadata": {
        "id": "6wDRETL9AtHc",
        "colab_type": "code",
        "colab": {
          "base_uri": "https://localhost:8080/",
          "height": 368
        },
        "outputId": "9430bda3-326f-470a-d8c2-3d5f10e93c0d"
      },
      "source": [
        "#Train model witht autoencoder image\n",
        "model_with_autoencoder = model.fit(decoded_train_imgs, y_train, \n",
        "          batch_size=64, \n",
        "          epochs=10, \n",
        "          verbose=1,\n",
        "          validation_data=(decoded_test_imgs, y_test)\n",
        "          )"
      ],
      "execution_count": 67,
      "outputs": [
        {
          "output_type": "stream",
          "text": [
            "Train on 60000 samples, validate on 10000 samples\n",
            "Epoch 1/10\n",
            "60000/60000 [==============================] - 13s 216us/step - loss: 0.4509 - accuracy: 0.8357 - val_loss: 0.4430 - val_accuracy: 0.8383\n",
            "Epoch 2/10\n",
            "60000/60000 [==============================] - 12s 195us/step - loss: 0.4184 - accuracy: 0.8469 - val_loss: 0.4294 - val_accuracy: 0.8411\n",
            "Epoch 3/10\n",
            "60000/60000 [==============================] - 12s 198us/step - loss: 0.4049 - accuracy: 0.8512 - val_loss: 0.4271 - val_accuracy: 0.8421\n",
            "Epoch 4/10\n",
            "60000/60000 [==============================] - 12s 199us/step - loss: 0.3954 - accuracy: 0.8542 - val_loss: 0.4320 - val_accuracy: 0.8414\n",
            "Epoch 5/10\n",
            "60000/60000 [==============================] - 12s 199us/step - loss: 0.3882 - accuracy: 0.8557 - val_loss: 0.4351 - val_accuracy: 0.8405\n",
            "Epoch 6/10\n",
            "60000/60000 [==============================] - 12s 199us/step - loss: 0.3828 - accuracy: 0.8575 - val_loss: 0.4128 - val_accuracy: 0.8500\n",
            "Epoch 7/10\n",
            "60000/60000 [==============================] - 12s 200us/step - loss: 0.3762 - accuracy: 0.8612 - val_loss: 0.4153 - val_accuracy: 0.8473\n",
            "Epoch 8/10\n",
            "60000/60000 [==============================] - 12s 199us/step - loss: 0.3723 - accuracy: 0.8610 - val_loss: 0.4146 - val_accuracy: 0.8488\n",
            "Epoch 9/10\n",
            "60000/60000 [==============================] - 12s 201us/step - loss: 0.3683 - accuracy: 0.8621 - val_loss: 0.4129 - val_accuracy: 0.8494\n",
            "Epoch 10/10\n",
            "60000/60000 [==============================] - 12s 203us/step - loss: 0.3653 - accuracy: 0.8632 - val_loss: 0.4139 - val_accuracy: 0.8464\n"
          ],
          "name": "stdout"
        }
      ]
    },
    {
      "cell_type": "code",
      "metadata": {
        "id": "zO6yRR1CA-_v",
        "colab_type": "code",
        "colab": {
          "base_uri": "https://localhost:8080/",
          "height": 516
        },
        "outputId": "ee386707-bd51-40e3-cefe-35fec1de2be6"
      },
      "source": [
        "#accuracy visualization\n",
        "\n",
        "import matplotlib.pyplot as plt\n",
        "\n",
        "acc = model_without_autoencoder.history['accuracy']\n",
        "val_acc = model_without_autoencoder.history['val_accuracy']\n",
        "\n",
        "acc2 = model_with_autoencoder.history['accuracy']\n",
        "val_acc2 = model_with_autoencoder.history['val_accuracy']\n",
        "\n",
        "epochs = range(len(acc))\n",
        "\n",
        "fig, ax = plt.subplots(figsize=(20,8))\n",
        "ax.plot(epochs, acc, 'r', label='Training Accuracy without Autoencoder')\n",
        "ax.plot(epochs, val_acc, 'b', label='Validation Accuracy without Autoencoder')\n",
        "ax.plot(epochs, acc2, 'g', label='Training Accuracy with Autoencoder')\n",
        "ax.plot(epochs, val_acc2, 'y', label='Validation Accuracy with Autoencoder')\n",
        "ax.set_title('Training and Validation Accuracy')\n",
        "plt.legend(loc=0)\n",
        "plt.figure()\n",
        "\n",
        "plt.show()"
      ],
      "execution_count": 68,
      "outputs": [
        {
          "output_type": "display_data",
          "data": {
            "image/png": "[encoded data removed]",
            "text/plain": [
              "<Figure size 1440x576 with 1 Axes>"
            ]
          },
          "metadata": {
            "tags": [],
            "needs_background": "light"
          }
        },
        {
          "output_type": "display_data",
          "data": {
            "text/plain": [
              "<Figure size 432x288 with 0 Axes>"
            ]
          },
          "metadata": {
            "tags": []
          }
        }
      ]
    },
    {
      "cell_type": "code",
      "metadata": {
        "id": "QctGg4LmCaqm",
        "colab_type": "code",
        "colab": {}
      },
      "source": [
        ""
      ],
      "execution_count": null,
      "outputs": []
    }
  ]
}